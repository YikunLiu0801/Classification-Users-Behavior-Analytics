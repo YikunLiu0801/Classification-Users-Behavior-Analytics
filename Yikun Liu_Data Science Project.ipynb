{
 "cells": [
  {
   "cell_type": "markdown",
   "metadata": {},
   "source": [
    "# User Behavior Analytics Project for Expedia"
   ]
  },
  {
   "cell_type": "code",
   "execution_count": 1,
   "metadata": {},
   "outputs": [
    {
     "name": "stderr",
     "output_type": "stream",
     "text": [
      "/Users/liuyikun/anaconda3/lib/python3.7/site-packages/statsmodels/tools/_testing.py:19: FutureWarning: pandas.util.testing is deprecated. Use the functions in the public API at pandas.testing instead.\n",
      "  import pandas.util.testing as tm\n"
     ]
    }
   ],
   "source": [
    "import pandas as pd\n",
    "import numpy as np\n",
    "from statsmodels.formula.api import ols\n",
    "from scipy.optimize import minimize\n",
    "from scipy.optimize import LinearConstraint\n",
    "import matplotlib.pyplot as plt\n",
    "from sklearn.model_selection import train_test_split\n",
    "from sklearn.metrics import classification_report as report\n",
    "from statsmodels.discrete.discrete_model import Logit\n",
    "from sklearn.discriminant_analysis import QuadraticDiscriminantAnalysis as qda\n",
    "from sklearn.ensemble import RandomForestClassifier as rfc"
   ]
  },
  {
   "cell_type": "code",
   "execution_count": 2,
   "metadata": {},
   "outputs": [],
   "source": [
    "expe = pd.read_csv('B8816-TakeHomeFinal-question4.csv')"
   ]
  },
  {
   "cell_type": "markdown",
   "metadata": {},
   "source": [
    "### Data cleaning\n",
    "\n",
    "Main two steps:\n",
    "\n",
    "1. Drop columns that are not very informative towards the clicking and booking prediction\n",
    "\n",
    "Particularly, for competitors’ data, after calculation, there is no competitor that has both lower price and availability, so we can remove the 24 columns with competitors’ data.\n",
    "\n",
    "2. Drop null data reasonably"
   ]
  },
  {
   "cell_type": "code",
   "execution_count": 3,
   "metadata": {},
   "outputs": [],
   "source": [
    "# drop columns that probably won't contribute much information to the clicking and booking prediction\n",
    "drop_columns = ['date_time','site_id','visitor_location_country_id','visitor_hist_starrating','visitor_hist_adr_usd','prop_id','prop_country_id','prop_log_historical_price','srch_destination_id','srch_query_affinity_score','orig_destination_distance','position','random_bool']\n",
    "expe = expe.drop(columns = drop_columns)"
   ]
  },
  {
   "cell_type": "code",
   "execution_count": 4,
   "metadata": {},
   "outputs": [
    {
     "name": "stdout",
     "output_type": "stream",
     "text": [
      "<class 'pandas.core.frame.DataFrame'>\n",
      "RangeIndex: 200000 entries, 0 to 199999\n",
      "Data columns (total 41 columns):\n",
      " #   Column                    Non-Null Count   Dtype  \n",
      "---  ------                    --------------   -----  \n",
      " 0   srch_id                   200000 non-null  int64  \n",
      " 1   prop_starrating           200000 non-null  int64  \n",
      " 2   prop_review_score         199719 non-null  float64\n",
      " 3   prop_brand_bool           200000 non-null  int64  \n",
      " 4   prop_location_score1      200000 non-null  float64\n",
      " 5   prop_location_score2      156405 non-null  float64\n",
      " 6   price_usd                 200000 non-null  float64\n",
      " 7   promotion_flag            200000 non-null  int64  \n",
      " 8   srch_length_of_stay       200000 non-null  int64  \n",
      " 9   srch_booking_window       200000 non-null  int64  \n",
      " 10  srch_adults_count         200000 non-null  int64  \n",
      " 11  srch_children_count       200000 non-null  int64  \n",
      " 12  srch_room_count           200000 non-null  int64  \n",
      " 13  srch_saturday_night_bool  200000 non-null  int64  \n",
      " 14  comp1_rate                4578 non-null    float64\n",
      " 15  comp1_inv                 4922 non-null    float64\n",
      " 16  comp1_rate_percent_diff   3649 non-null    float64\n",
      " 17  comp2_rate                81248 non-null   float64\n",
      " 18  comp2_inv                 85444 non-null   float64\n",
      " 19  comp2_rate_percent_diff   22112 non-null   float64\n",
      " 20  comp3_rate                62070 non-null   float64\n",
      " 21  comp3_inv                 66683 non-null   float64\n",
      " 22  comp3_rate_percent_diff   18900 non-null   float64\n",
      " 23  comp4_rate                12193 non-null   float64\n",
      " 24  comp4_inv                 13562 non-null   float64\n",
      " 25  comp4_rate_percent_diff   5146 non-null    float64\n",
      " 26  comp5_rate                89447 non-null   float64\n",
      " 27  comp5_inv                 94968 non-null   float64\n",
      " 28  comp5_rate_percent_diff   33322 non-null   float64\n",
      " 29  comp6_rate                10106 non-null   float64\n",
      " 30  comp6_inv                 10984 non-null   float64\n",
      " 31  comp6_rate_percent_diff   4020 non-null    float64\n",
      " 32  comp7_rate                13051 non-null   float64\n",
      " 33  comp7_inv                 14679 non-null   float64\n",
      " 34  comp7_rate_percent_diff   5836 non-null    float64\n",
      " 35  comp8_rate                76468 non-null   float64\n",
      " 36  comp8_inv                 79433 non-null   float64\n",
      " 37  comp8_rate_percent_diff   24365 non-null   float64\n",
      " 38  click_bool                200000 non-null  int64  \n",
      " 39  gross_bookings_usd        5599 non-null    float64\n",
      " 40  booking_bool              200000 non-null  int64  \n",
      "dtypes: float64(29), int64(12)\n",
      "memory usage: 62.6 MB\n"
     ]
    }
   ],
   "source": [
    "expe.info()"
   ]
  },
  {
   "cell_type": "code",
   "execution_count": 5,
   "metadata": {},
   "outputs": [],
   "source": [
    "# Since there are many null data in competitors' data, we have to integrate some infomation.\n",
    "# calculate number of competitors with lower price and avalibility\n",
    "\n",
    "columns1 = ['comp1_rate','comp2_rate','comp3_rate','comp4_rate','comp5_rate','comp6_rate','comp7_rate','comp8_rate']\n",
    "columns2 = ['comp1_inv','comp2_inv','comp3_inv','comp4_inv','comp5_inv','comp6_inv','comp7_inv','comp8_inv']\n",
    "expe['Num_comp'] = ((expe[columns1] == 1) &(expe[columns2] == -1)).sum(axis = 1)"
   ]
  },
  {
   "cell_type": "code",
   "execution_count": 6,
   "metadata": {},
   "outputs": [
    {
     "data": {
      "text/plain": [
       "0    200000\n",
       "Name: Num_comp, dtype: int64"
      ]
     },
     "execution_count": 6,
     "metadata": {},
     "output_type": "execute_result"
    }
   ],
   "source": [
    "expe['Num_comp'].value_counts()"
   ]
  },
  {
   "cell_type": "code",
   "execution_count": 7,
   "metadata": {},
   "outputs": [],
   "source": [
    "# It turns out that no competitor have both avalibility and lower price, which means we don't have to worry about competitors.\n",
    "columns3 = ['comp1_rate_percent_diff','comp2_rate_percent_diff','comp3_rate_percent_diff','comp4_rate_percent_diff','comp5_rate_percent_diff','comp6_rate_percent_diff','comp7_rate_percent_diff','comp8_rate_percent_diff']\n",
    "expe = expe.drop(columns = columns1)\n",
    "expe = expe.drop(columns = columns2)\n",
    "expe = expe.drop(columns = columns3)\n",
    "expe = expe.drop(columns = ['Num_comp'])"
   ]
  },
  {
   "cell_type": "code",
   "execution_count": 8,
   "metadata": {},
   "outputs": [],
   "source": [
    "# deal with null data\n",
    "# The 'gross_bookings_usd' indicates similar information of 'price_usd' and 'booking_bool'. Drop this column.\n",
    "# The 'prop_location_score1' is probably enough to indicate the location desirablity, so drop 'prop_location_score2' as it contains a lot of null data.\n",
    "# Drop rows that still contain null data.\n",
    "expe = expe.drop(columns = ['gross_bookings_usd','prop_location_score2'])\n",
    "expe = expe.dropna()"
   ]
  },
  {
   "cell_type": "code",
   "execution_count": 9,
   "metadata": {},
   "outputs": [
    {
     "data": {
      "text/html": [
       "<div>\n",
       "<style scoped>\n",
       "    .dataframe tbody tr th:only-of-type {\n",
       "        vertical-align: middle;\n",
       "    }\n",
       "\n",
       "    .dataframe tbody tr th {\n",
       "        vertical-align: top;\n",
       "    }\n",
       "\n",
       "    .dataframe thead th {\n",
       "        text-align: right;\n",
       "    }\n",
       "</style>\n",
       "<table border=\"1\" class=\"dataframe\">\n",
       "  <thead>\n",
       "    <tr style=\"text-align: right;\">\n",
       "      <th></th>\n",
       "      <th>srch_id</th>\n",
       "      <th>prop_starrating</th>\n",
       "      <th>prop_review_score</th>\n",
       "      <th>prop_brand_bool</th>\n",
       "      <th>prop_location_score1</th>\n",
       "      <th>price_usd</th>\n",
       "      <th>promotion_flag</th>\n",
       "      <th>srch_length_of_stay</th>\n",
       "      <th>srch_booking_window</th>\n",
       "      <th>srch_adults_count</th>\n",
       "      <th>srch_children_count</th>\n",
       "      <th>srch_room_count</th>\n",
       "      <th>srch_saturday_night_bool</th>\n",
       "      <th>click_bool</th>\n",
       "      <th>booking_bool</th>\n",
       "    </tr>\n",
       "  </thead>\n",
       "  <tbody>\n",
       "    <tr>\n",
       "      <th>0</th>\n",
       "      <td>1</td>\n",
       "      <td>3</td>\n",
       "      <td>3.5</td>\n",
       "      <td>1</td>\n",
       "      <td>2.83</td>\n",
       "      <td>104.77</td>\n",
       "      <td>0</td>\n",
       "      <td>1</td>\n",
       "      <td>0</td>\n",
       "      <td>4</td>\n",
       "      <td>0</td>\n",
       "      <td>1</td>\n",
       "      <td>1</td>\n",
       "      <td>0</td>\n",
       "      <td>0</td>\n",
       "    </tr>\n",
       "    <tr>\n",
       "      <th>1</th>\n",
       "      <td>1</td>\n",
       "      <td>4</td>\n",
       "      <td>4.0</td>\n",
       "      <td>1</td>\n",
       "      <td>2.20</td>\n",
       "      <td>170.74</td>\n",
       "      <td>0</td>\n",
       "      <td>1</td>\n",
       "      <td>0</td>\n",
       "      <td>4</td>\n",
       "      <td>0</td>\n",
       "      <td>1</td>\n",
       "      <td>1</td>\n",
       "      <td>0</td>\n",
       "      <td>0</td>\n",
       "    </tr>\n",
       "    <tr>\n",
       "      <th>2</th>\n",
       "      <td>1</td>\n",
       "      <td>3</td>\n",
       "      <td>4.5</td>\n",
       "      <td>1</td>\n",
       "      <td>2.20</td>\n",
       "      <td>179.80</td>\n",
       "      <td>0</td>\n",
       "      <td>1</td>\n",
       "      <td>0</td>\n",
       "      <td>4</td>\n",
       "      <td>0</td>\n",
       "      <td>1</td>\n",
       "      <td>1</td>\n",
       "      <td>0</td>\n",
       "      <td>0</td>\n",
       "    </tr>\n",
       "    <tr>\n",
       "      <th>3</th>\n",
       "      <td>1</td>\n",
       "      <td>2</td>\n",
       "      <td>4.0</td>\n",
       "      <td>1</td>\n",
       "      <td>2.83</td>\n",
       "      <td>602.77</td>\n",
       "      <td>0</td>\n",
       "      <td>1</td>\n",
       "      <td>0</td>\n",
       "      <td>4</td>\n",
       "      <td>0</td>\n",
       "      <td>1</td>\n",
       "      <td>1</td>\n",
       "      <td>0</td>\n",
       "      <td>0</td>\n",
       "    </tr>\n",
       "    <tr>\n",
       "      <th>4</th>\n",
       "      <td>1</td>\n",
       "      <td>4</td>\n",
       "      <td>3.5</td>\n",
       "      <td>1</td>\n",
       "      <td>2.64</td>\n",
       "      <td>143.58</td>\n",
       "      <td>0</td>\n",
       "      <td>1</td>\n",
       "      <td>0</td>\n",
       "      <td>4</td>\n",
       "      <td>0</td>\n",
       "      <td>1</td>\n",
       "      <td>1</td>\n",
       "      <td>0</td>\n",
       "      <td>0</td>\n",
       "    </tr>\n",
       "    <tr>\n",
       "      <th>...</th>\n",
       "      <td>...</td>\n",
       "      <td>...</td>\n",
       "      <td>...</td>\n",
       "      <td>...</td>\n",
       "      <td>...</td>\n",
       "      <td>...</td>\n",
       "      <td>...</td>\n",
       "      <td>...</td>\n",
       "      <td>...</td>\n",
       "      <td>...</td>\n",
       "      <td>...</td>\n",
       "      <td>...</td>\n",
       "      <td>...</td>\n",
       "      <td>...</td>\n",
       "      <td>...</td>\n",
       "    </tr>\n",
       "    <tr>\n",
       "      <th>199995</th>\n",
       "      <td>13431</td>\n",
       "      <td>4</td>\n",
       "      <td>4.5</td>\n",
       "      <td>1</td>\n",
       "      <td>1.10</td>\n",
       "      <td>143.00</td>\n",
       "      <td>0</td>\n",
       "      <td>2</td>\n",
       "      <td>11</td>\n",
       "      <td>1</td>\n",
       "      <td>1</td>\n",
       "      <td>1</td>\n",
       "      <td>1</td>\n",
       "      <td>0</td>\n",
       "      <td>0</td>\n",
       "    </tr>\n",
       "    <tr>\n",
       "      <th>199996</th>\n",
       "      <td>13431</td>\n",
       "      <td>3</td>\n",
       "      <td>3.5</td>\n",
       "      <td>1</td>\n",
       "      <td>1.79</td>\n",
       "      <td>105.00</td>\n",
       "      <td>0</td>\n",
       "      <td>2</td>\n",
       "      <td>11</td>\n",
       "      <td>1</td>\n",
       "      <td>1</td>\n",
       "      <td>1</td>\n",
       "      <td>1</td>\n",
       "      <td>0</td>\n",
       "      <td>0</td>\n",
       "    </tr>\n",
       "    <tr>\n",
       "      <th>199997</th>\n",
       "      <td>13431</td>\n",
       "      <td>3</td>\n",
       "      <td>4.0</td>\n",
       "      <td>1</td>\n",
       "      <td>1.10</td>\n",
       "      <td>146.00</td>\n",
       "      <td>0</td>\n",
       "      <td>2</td>\n",
       "      <td>11</td>\n",
       "      <td>1</td>\n",
       "      <td>1</td>\n",
       "      <td>1</td>\n",
       "      <td>1</td>\n",
       "      <td>0</td>\n",
       "      <td>0</td>\n",
       "    </tr>\n",
       "    <tr>\n",
       "      <th>199998</th>\n",
       "      <td>13431</td>\n",
       "      <td>4</td>\n",
       "      <td>4.0</td>\n",
       "      <td>1</td>\n",
       "      <td>4.08</td>\n",
       "      <td>259.00</td>\n",
       "      <td>0</td>\n",
       "      <td>2</td>\n",
       "      <td>11</td>\n",
       "      <td>1</td>\n",
       "      <td>1</td>\n",
       "      <td>1</td>\n",
       "      <td>1</td>\n",
       "      <td>0</td>\n",
       "      <td>0</td>\n",
       "    </tr>\n",
       "    <tr>\n",
       "      <th>199999</th>\n",
       "      <td>13431</td>\n",
       "      <td>3</td>\n",
       "      <td>3.5</td>\n",
       "      <td>1</td>\n",
       "      <td>1.10</td>\n",
       "      <td>139.00</td>\n",
       "      <td>0</td>\n",
       "      <td>2</td>\n",
       "      <td>11</td>\n",
       "      <td>1</td>\n",
       "      <td>1</td>\n",
       "      <td>1</td>\n",
       "      <td>1</td>\n",
       "      <td>0</td>\n",
       "      <td>0</td>\n",
       "    </tr>\n",
       "  </tbody>\n",
       "</table>\n",
       "<p>199719 rows × 15 columns</p>\n",
       "</div>"
      ],
      "text/plain": [
       "        srch_id  prop_starrating  prop_review_score  prop_brand_bool  \\\n",
       "0             1                3                3.5                1   \n",
       "1             1                4                4.0                1   \n",
       "2             1                3                4.5                1   \n",
       "3             1                2                4.0                1   \n",
       "4             1                4                3.5                1   \n",
       "...         ...              ...                ...              ...   \n",
       "199995    13431                4                4.5                1   \n",
       "199996    13431                3                3.5                1   \n",
       "199997    13431                3                4.0                1   \n",
       "199998    13431                4                4.0                1   \n",
       "199999    13431                3                3.5                1   \n",
       "\n",
       "        prop_location_score1  price_usd  promotion_flag  srch_length_of_stay  \\\n",
       "0                       2.83     104.77               0                    1   \n",
       "1                       2.20     170.74               0                    1   \n",
       "2                       2.20     179.80               0                    1   \n",
       "3                       2.83     602.77               0                    1   \n",
       "4                       2.64     143.58               0                    1   \n",
       "...                      ...        ...             ...                  ...   \n",
       "199995                  1.10     143.00               0                    2   \n",
       "199996                  1.79     105.00               0                    2   \n",
       "199997                  1.10     146.00               0                    2   \n",
       "199998                  4.08     259.00               0                    2   \n",
       "199999                  1.10     139.00               0                    2   \n",
       "\n",
       "        srch_booking_window  srch_adults_count  srch_children_count  \\\n",
       "0                         0                  4                    0   \n",
       "1                         0                  4                    0   \n",
       "2                         0                  4                    0   \n",
       "3                         0                  4                    0   \n",
       "4                         0                  4                    0   \n",
       "...                     ...                ...                  ...   \n",
       "199995                   11                  1                    1   \n",
       "199996                   11                  1                    1   \n",
       "199997                   11                  1                    1   \n",
       "199998                   11                  1                    1   \n",
       "199999                   11                  1                    1   \n",
       "\n",
       "        srch_room_count  srch_saturday_night_bool  click_bool  booking_bool  \n",
       "0                     1                         1           0             0  \n",
       "1                     1                         1           0             0  \n",
       "2                     1                         1           0             0  \n",
       "3                     1                         1           0             0  \n",
       "4                     1                         1           0             0  \n",
       "...                 ...                       ...         ...           ...  \n",
       "199995                1                         1           0             0  \n",
       "199996                1                         1           0             0  \n",
       "199997                1                         1           0             0  \n",
       "199998                1                         1           0             0  \n",
       "199999                1                         1           0             0  \n",
       "\n",
       "[199719 rows x 15 columns]"
      ]
     },
     "execution_count": 9,
     "metadata": {},
     "output_type": "execute_result"
    }
   ],
   "source": [
    "expe"
   ]
  },
  {
   "cell_type": "markdown",
   "metadata": {},
   "source": [
    "### Data exploration"
   ]
  },
  {
   "cell_type": "code",
   "execution_count": 10,
   "metadata": {},
   "outputs": [
    {
     "data": {
      "text/plain": [
       "0    156828\n",
       "1     42891\n",
       "Name: promotion_flag, dtype: int64"
      ]
     },
     "execution_count": 10,
     "metadata": {},
     "output_type": "execute_result"
    }
   ],
   "source": [
    "# 20% of the properties have promotion displayed.\n",
    "expe.promotion_flag.value_counts()"
   ]
  },
  {
   "cell_type": "code",
   "execution_count": 11,
   "metadata": {},
   "outputs": [
    {
     "data": {
      "text/plain": [
       "0    100163\n",
       "1     99556\n",
       "Name: srch_saturday_night_bool, dtype: int64"
      ]
     },
     "execution_count": 11,
     "metadata": {},
     "output_type": "execute_result"
    }
   ],
   "source": [
    "# Nearly half of the records cover weekend reservations.\n",
    "expe.srch_saturday_night_bool.value_counts()"
   ]
  },
  {
   "cell_type": "code",
   "execution_count": 12,
   "metadata": {},
   "outputs": [
    {
     "data": {
      "text/plain": [
       "3.7988098278080704"
      ]
     },
     "execution_count": 12,
     "metadata": {},
     "output_type": "execute_result"
    }
   ],
   "source": [
    "# The mean of property review score is 3.8.\n",
    "np.mean(expe.prop_review_score)"
   ]
  },
  {
   "cell_type": "code",
   "execution_count": 13,
   "metadata": {},
   "outputs": [
    {
     "data": {
      "text/plain": [
       "3.198799313034814"
      ]
     },
     "execution_count": 13,
     "metadata": {},
     "output_type": "execute_result"
    }
   ],
   "source": [
    "# The mean of property star rating is 3.2.\n",
    "np.mean(expe.prop_starrating)"
   ]
  },
  {
   "cell_type": "code",
   "execution_count": 14,
   "metadata": {},
   "outputs": [
    {
     "data": {
      "text/plain": [
       "0    190777\n",
       "1      8942\n",
       "Name: click_bool, dtype: int64"
      ]
     },
     "execution_count": 14,
     "metadata": {},
     "output_type": "execute_result"
    }
   ],
   "source": [
    "expe.click_bool.value_counts()"
   ]
  },
  {
   "cell_type": "markdown",
   "metadata": {},
   "source": [
    "Only 4% of the properties are clicked.\n",
    "\n",
    "This ratio is very low, which means that if we fit a model with this unbalanced dataset, it is very likely that the click_bool prediction from the model will all be 0. Also as clicking and booking is more valuable than not for Expedia, the cost function should be altered so that the false negative will be penalized more. So we have to do resampling. "
   ]
  },
  {
   "cell_type": "code",
   "execution_count": 15,
   "metadata": {},
   "outputs": [
    {
     "data": {
      "text/plain": [
       "1    5593\n",
       "0    3349\n",
       "Name: booking_bool, dtype: int64"
      ]
     },
     "execution_count": 15,
     "metadata": {},
     "output_type": "execute_result"
    }
   ],
   "source": [
    "# Among all the properties that are clicked, about 63% of the properties are booked, which is quite a high ratio.\n",
    "expe[expe.click_bool == 1].booking_bool.value_counts()"
   ]
  },
  {
   "cell_type": "code",
   "execution_count": 16,
   "metadata": {},
   "outputs": [
    {
     "data": {
      "text/plain": [
       "promotion_flag\n",
       "0    0.040682\n",
       "1    0.059733\n",
       "Name: click_bool, dtype: float64"
      ]
     },
     "execution_count": 16,
     "metadata": {},
     "output_type": "execute_result"
    }
   ],
   "source": [
    "# If the property is under promotion, the click ratio is higher than those not.\n",
    "expe.groupby('promotion_flag').mean().click_bool"
   ]
  },
  {
   "cell_type": "code",
   "execution_count": 17,
   "metadata": {},
   "outputs": [
    {
     "data": {
      "text/plain": [
       "prop_review_score\n",
       "0.0    0.029910\n",
       "1.0    0.014493\n",
       "1.5    0.021700\n",
       "2.0    0.024558\n",
       "2.5    0.034458\n",
       "3.0    0.034748\n",
       "3.5    0.045280\n",
       "4.0    0.050463\n",
       "4.5    0.047008\n",
       "5.0    0.033617\n",
       "Name: click_bool, dtype: float64"
      ]
     },
     "execution_count": 17,
     "metadata": {},
     "output_type": "execute_result"
    }
   ],
   "source": [
    "# When review score in range (3.5,4,5), the click-on ratio is higher than average.\n",
    "expe.groupby('prop_review_score').mean().click_bool"
   ]
  },
  {
   "cell_type": "code",
   "execution_count": 18,
   "metadata": {},
   "outputs": [
    {
     "data": {
      "text/plain": [
       "32    1204\n",
       "33    1045\n",
       "31     825\n",
       "30     476\n",
       "34     383\n",
       "27     262\n",
       "28     262\n",
       "29     253\n",
       "6      212\n",
       "5      190\n",
       "8      171\n",
       "26     170\n",
       "15     167\n",
       "9      161\n",
       "11     157\n",
       "25     148\n",
       "10     148\n",
       "13     147\n",
       "20     147\n",
       "21     144\n",
       "12     141\n",
       "24     139\n",
       "16     135\n",
       "18     134\n",
       "7      134\n",
       "19     131\n",
       "17     130\n",
       "23     128\n",
       "22     124\n",
       "14     123\n",
       "35      72\n",
       "36       4\n",
       "37       1\n",
       "4        1\n",
       "Name: click_bool, dtype: int64"
      ]
     },
     "execution_count": 18,
     "metadata": {},
     "output_type": "execute_result"
    }
   ],
   "source": [
    "# For each people seearching on Expedia, how many properties do they look through?\n",
    "expe.groupby('srch_id').count().click_bool.value_counts()"
   ]
  },
  {
   "cell_type": "code",
   "execution_count": 19,
   "metadata": {},
   "outputs": [
    {
     "data": {
      "text/plain": [
       "1     7547\n",
       "2      352\n",
       "3       86\n",
       "4       34\n",
       "5       12\n",
       "0       11\n",
       "6        9\n",
       "7        5\n",
       "10       5\n",
       "11       2\n",
       "19       1\n",
       "15       1\n",
       "13       1\n",
       "9        1\n",
       "12       1\n",
       "8        1\n",
       "Name: click_bool, dtype: int64"
      ]
     },
     "execution_count": 19,
     "metadata": {},
     "output_type": "execute_result"
    }
   ],
   "source": [
    "# For each people seearching on Expedia, how many properties do they click?\n",
    "expe.groupby('srch_id').sum().click_bool.value_counts()"
   ]
  },
  {
   "cell_type": "markdown",
   "metadata": {},
   "source": [
    "## Build a model that predicts the likelihood a property will be clicked upon"
   ]
  },
  {
   "cell_type": "markdown",
   "metadata": {},
   "source": [
    "### Data preparation"
   ]
  },
  {
   "cell_type": "code",
   "execution_count": 20,
   "metadata": {},
   "outputs": [],
   "source": [
    "# Transform 'prop_review_score' into a boolean variable: 'popular_score'. \n",
    "# popular_score = 1 if 'prop_review_score' in range(3.5,4,5); popular_score = 0 otherwise.\n",
    "expe['popular_score'] = np.where((expe.prop_review_score<=4.5) & (expe.prop_review_score >=3.5),1,0)"
   ]
  },
  {
   "cell_type": "code",
   "execution_count": 21,
   "metadata": {},
   "outputs": [],
   "source": [
    "# Split the dataset into training and validation sets\n",
    "train_c,valid_c = train_test_split(expe,test_size = 0.1,random_state = 1)"
   ]
  },
  {
   "cell_type": "code",
   "execution_count": 22,
   "metadata": {},
   "outputs": [],
   "source": [
    "# Resampling training and validation set: under-sample click_bool = 0 by 1/10 and over-sample click_bool = 1 by 3 times.\n",
    "train_c1 = train_c[train_c.click_bool == 1]\n",
    "train_c0 = train_c[train_c.click_bool == 0]\n",
    "n1 = len(train_c1)\n",
    "n0 = len(train_c0)\n",
    "train_c1 = train_c1.sample(3*n1,replace=True)\n",
    "train_c0 = train_c0.sample(int(n0/10), replace=True)\n",
    "train_c = pd.concat([train_c0, train_c1], axis=0)\n",
    "\n",
    "valid_c1 = valid_c[valid_c.click_bool == 1]\n",
    "valid_c0 = valid_c[valid_c.click_bool == 0]\n",
    "m1 = len(valid_c1)\n",
    "m0 = len(valid_c0)\n",
    "valid_c1 = valid_c1.sample(3*m1,replace=True)\n",
    "valid_c0 = valid_c0.sample(int(m0/10), replace=True)\n",
    "valid_c = pd.concat([valid_c0, valid_c1], axis=0)"
   ]
  },
  {
   "cell_type": "code",
   "execution_count": 23,
   "metadata": {},
   "outputs": [],
   "source": [
    "train_xc = train_c.drop(columns = ['srch_id','click_bool','booking_bool'])\n",
    "train_yc = train_c['click_bool']\n",
    "valid_xc = valid_c.drop(columns = ['srch_id','click_bool','booking_bool'])\n",
    "valid_yc = valid_c['click_bool']"
   ]
  },
  {
   "cell_type": "markdown",
   "metadata": {},
   "source": [
    "### Fit a logistic regression model"
   ]
  },
  {
   "cell_type": "code",
   "execution_count": 24,
   "metadata": {},
   "outputs": [
    {
     "name": "stdout",
     "output_type": "stream",
     "text": [
      "Optimization terminated successfully.\n",
      "         Current function value: 0.670478\n",
      "         Iterations 4\n"
     ]
    }
   ],
   "source": [
    "model_logit_c = Logit(train_yc,train_xc).fit()"
   ]
  },
  {
   "cell_type": "code",
   "execution_count": 25,
   "metadata": {},
   "outputs": [
    {
     "data": {
      "text/html": [
       "<table class=\"simpletable\">\n",
       "<caption>Logit Regression Results</caption>\n",
       "<tr>\n",
       "  <th>Dep. Variable:</th>      <td>click_bool</td>    <th>  No. Observations:  </th>   <td> 41432</td>  \n",
       "</tr>\n",
       "<tr>\n",
       "  <th>Model:</th>                 <td>Logit</td>      <th>  Df Residuals:      </th>   <td> 41419</td>  \n",
       "</tr>\n",
       "<tr>\n",
       "  <th>Method:</th>                 <td>MLE</td>       <th>  Df Model:          </th>   <td>    12</td>  \n",
       "</tr>\n",
       "<tr>\n",
       "  <th>Date:</th>            <td>Mon, 09 Mar 2020</td> <th>  Pseudo R-squ.:     </th>   <td>0.01165</td> \n",
       "</tr>\n",
       "<tr>\n",
       "  <th>Time:</th>                <td>20:41:49</td>     <th>  Log-Likelihood:    </th>  <td> -27779.</td> \n",
       "</tr>\n",
       "<tr>\n",
       "  <th>converged:</th>             <td>True</td>       <th>  LL-Null:           </th>  <td> -28107.</td> \n",
       "</tr>\n",
       "<tr>\n",
       "  <th>Covariance Type:</th>     <td>nonrobust</td>    <th>  LLR p-value:       </th> <td>1.790e-132</td>\n",
       "</tr>\n",
       "</table>\n",
       "<table class=\"simpletable\">\n",
       "<tr>\n",
       "              <td></td>                <th>coef</th>     <th>std err</th>      <th>z</th>      <th>P>|z|</th>  <th>[0.025</th>    <th>0.975]</th>  \n",
       "</tr>\n",
       "<tr>\n",
       "  <th>prop_starrating</th>          <td>    0.0591</td> <td>    0.010</td> <td>    5.637</td> <td> 0.000</td> <td>    0.039</td> <td>    0.080</td>\n",
       "</tr>\n",
       "<tr>\n",
       "  <th>prop_review_score</th>        <td>   -0.0290</td> <td>    0.012</td> <td>   -2.496</td> <td> 0.013</td> <td>   -0.052</td> <td>   -0.006</td>\n",
       "</tr>\n",
       "<tr>\n",
       "  <th>prop_brand_bool</th>          <td>   -0.0343</td> <td>    0.022</td> <td>   -1.567</td> <td> 0.117</td> <td>   -0.077</td> <td>    0.009</td>\n",
       "</tr>\n",
       "<tr>\n",
       "  <th>prop_location_score1</th>     <td>   -0.0459</td> <td>    0.007</td> <td>   -6.581</td> <td> 0.000</td> <td>   -0.060</td> <td>   -0.032</td>\n",
       "</tr>\n",
       "<tr>\n",
       "  <th>price_usd</th>                <td>-8.855e-06</td> <td> 5.45e-06</td> <td>   -1.624</td> <td> 0.104</td> <td>-1.95e-05</td> <td> 1.83e-06</td>\n",
       "</tr>\n",
       "<tr>\n",
       "  <th>promotion_flag</th>           <td>    0.3956</td> <td>    0.024</td> <td>   16.234</td> <td> 0.000</td> <td>    0.348</td> <td>    0.443</td>\n",
       "</tr>\n",
       "<tr>\n",
       "  <th>srch_length_of_stay</th>      <td>   -0.0070</td> <td>    0.005</td> <td>   -1.358</td> <td> 0.175</td> <td>   -0.017</td> <td>    0.003</td>\n",
       "</tr>\n",
       "<tr>\n",
       "  <th>srch_booking_window</th>      <td> -8.82e-05</td> <td>    0.000</td> <td>   -0.451</td> <td> 0.652</td> <td>   -0.000</td> <td>    0.000</td>\n",
       "</tr>\n",
       "<tr>\n",
       "  <th>srch_adults_count</th>        <td>   -0.0096</td> <td>    0.013</td> <td>   -0.745</td> <td> 0.456</td> <td>   -0.035</td> <td>    0.016</td>\n",
       "</tr>\n",
       "<tr>\n",
       "  <th>srch_children_count</th>      <td>    0.0412</td> <td>    0.014</td> <td>    2.965</td> <td> 0.003</td> <td>    0.014</td> <td>    0.068</td>\n",
       "</tr>\n",
       "<tr>\n",
       "  <th>srch_room_count</th>          <td>    0.0177</td> <td>    0.026</td> <td>    0.676</td> <td> 0.499</td> <td>   -0.034</td> <td>    0.069</td>\n",
       "</tr>\n",
       "<tr>\n",
       "  <th>srch_saturday_night_bool</th> <td>    0.0291</td> <td>    0.021</td> <td>    1.412</td> <td> 0.158</td> <td>   -0.011</td> <td>    0.070</td>\n",
       "</tr>\n",
       "<tr>\n",
       "  <th>popular_score</th>            <td>    0.3937</td> <td>    0.032</td> <td>   12.470</td> <td> 0.000</td> <td>    0.332</td> <td>    0.456</td>\n",
       "</tr>\n",
       "</table>"
      ],
      "text/plain": [
       "<class 'statsmodels.iolib.summary.Summary'>\n",
       "\"\"\"\n",
       "                           Logit Regression Results                           \n",
       "==============================================================================\n",
       "Dep. Variable:             click_bool   No. Observations:                41432\n",
       "Model:                          Logit   Df Residuals:                    41419\n",
       "Method:                           MLE   Df Model:                           12\n",
       "Date:                Mon, 09 Mar 2020   Pseudo R-squ.:                 0.01165\n",
       "Time:                        20:41:49   Log-Likelihood:                -27779.\n",
       "converged:                       True   LL-Null:                       -28107.\n",
       "Covariance Type:            nonrobust   LLR p-value:                1.790e-132\n",
       "============================================================================================\n",
       "                               coef    std err          z      P>|z|      [0.025      0.975]\n",
       "--------------------------------------------------------------------------------------------\n",
       "prop_starrating              0.0591      0.010      5.637      0.000       0.039       0.080\n",
       "prop_review_score           -0.0290      0.012     -2.496      0.013      -0.052      -0.006\n",
       "prop_brand_bool             -0.0343      0.022     -1.567      0.117      -0.077       0.009\n",
       "prop_location_score1        -0.0459      0.007     -6.581      0.000      -0.060      -0.032\n",
       "price_usd                -8.855e-06   5.45e-06     -1.624      0.104   -1.95e-05    1.83e-06\n",
       "promotion_flag               0.3956      0.024     16.234      0.000       0.348       0.443\n",
       "srch_length_of_stay         -0.0070      0.005     -1.358      0.175      -0.017       0.003\n",
       "srch_booking_window       -8.82e-05      0.000     -0.451      0.652      -0.000       0.000\n",
       "srch_adults_count           -0.0096      0.013     -0.745      0.456      -0.035       0.016\n",
       "srch_children_count          0.0412      0.014      2.965      0.003       0.014       0.068\n",
       "srch_room_count              0.0177      0.026      0.676      0.499      -0.034       0.069\n",
       "srch_saturday_night_bool     0.0291      0.021      1.412      0.158      -0.011       0.070\n",
       "popular_score                0.3937      0.032     12.470      0.000       0.332       0.456\n",
       "============================================================================================\n",
       "\"\"\""
      ]
     },
     "execution_count": 25,
     "metadata": {},
     "output_type": "execute_result"
    }
   ],
   "source": [
    "model_logit_c.summary()"
   ]
  },
  {
   "cell_type": "code",
   "execution_count": 26,
   "metadata": {},
   "outputs": [],
   "source": [
    "train_xc1 = train_xc[['prop_starrating','prop_review_score','promotion_flag','srch_room_count','popular_score']]\n",
    "valid_xc1 = valid_xc[['prop_starrating','prop_review_score','promotion_flag','srch_room_count','popular_score']]"
   ]
  },
  {
   "cell_type": "code",
   "execution_count": 27,
   "metadata": {},
   "outputs": [
    {
     "name": "stdout",
     "output_type": "stream",
     "text": [
      "Optimization terminated successfully.\n",
      "         Current function value: 0.671260\n",
      "         Iterations 4\n"
     ]
    }
   ],
   "source": [
    "model_logit_c1 = Logit(train_yc,train_xc1).fit()"
   ]
  },
  {
   "cell_type": "code",
   "execution_count": 28,
   "metadata": {},
   "outputs": [
    {
     "name": "stdout",
     "output_type": "stream",
     "text": [
      "              precision    recall  f1-score   support\n",
      "\n",
      "           0       0.54      0.15      0.23      1911\n",
      "           1       0.59      0.91      0.71      2559\n",
      "\n",
      "    accuracy                           0.58      4470\n",
      "   macro avg       0.57      0.53      0.47      4470\n",
      "weighted avg       0.57      0.58      0.51      4470\n",
      "\n"
     ]
    }
   ],
   "source": [
    "pred_yc1 = model_logit_c1.predict(valid_xc1)\n",
    "pred_yc1 = np.where(pred_yc1<=0.5,0,1)\n",
    "print(report(valid_yc,pred_yc1))"
   ]
  },
  {
   "cell_type": "markdown",
   "metadata": {},
   "source": [
    "### Fit a quadratic discriminant model"
   ]
  },
  {
   "cell_type": "code",
   "execution_count": 29,
   "metadata": {},
   "outputs": [],
   "source": [
    "model_qda_c = qda().fit(train_xc,train_yc)"
   ]
  },
  {
   "cell_type": "code",
   "execution_count": 30,
   "metadata": {},
   "outputs": [
    {
     "name": "stdout",
     "output_type": "stream",
     "text": [
      "              precision    recall  f1-score   support\n",
      "\n",
      "           0       0.52      0.20      0.28      1911\n",
      "           1       0.59      0.86      0.70      2559\n",
      "\n",
      "    accuracy                           0.58      4470\n",
      "   macro avg       0.55      0.53      0.49      4470\n",
      "weighted avg       0.56      0.58      0.52      4470\n",
      "\n"
     ]
    }
   ],
   "source": [
    "pred_yc2 = model_qda_c.predict(valid_xc)\n",
    "print(report(valid_yc,pred_yc2))"
   ]
  },
  {
   "cell_type": "markdown",
   "metadata": {},
   "source": [
    "### Fit a random forest tree"
   ]
  },
  {
   "cell_type": "code",
   "execution_count": 31,
   "metadata": {},
   "outputs": [],
   "source": [
    "model_rf_c = rfc(max_features = 13).fit(train_xc,train_yc)"
   ]
  },
  {
   "cell_type": "code",
   "execution_count": 32,
   "metadata": {},
   "outputs": [
    {
     "name": "stdout",
     "output_type": "stream",
     "text": [
      "              precision    recall  f1-score   support\n",
      "\n",
      "           0       0.44      0.77      0.56      1911\n",
      "           1       0.61      0.27      0.38      2559\n",
      "\n",
      "    accuracy                           0.48      4470\n",
      "   macro avg       0.53      0.52      0.47      4470\n",
      "weighted avg       0.54      0.48      0.45      4470\n",
      "\n"
     ]
    }
   ],
   "source": [
    "pred_yc3 = model_rf_c.predict(valid_xc)\n",
    "print(report(valid_yc,pred_yc3))"
   ]
  },
  {
   "cell_type": "markdown",
   "metadata": {},
   "source": [
    "Because the “clicking” is more important than “not clicking”, which means false negative should be penalized more than false negative, we should use a metrics other than misclassification error to select a good model. I chose recall, true positive / (true positive + false negative) as the most important metrics, and specificity, true negative / (true negative + false positive) as the second important metrics. These 2 metrics have a trade-off."
   ]
  },
  {
   "cell_type": "markdown",
   "metadata": {},
   "source": [
    "The model selected is the __quadratic discriminant model__, with a recall of 0.86 and a specificity of 0.20."
   ]
  },
  {
   "cell_type": "markdown",
   "metadata": {},
   "source": [
    "## Build a model that predicts the likelihood a property that has been clicked upon will be booked"
   ]
  },
  {
   "cell_type": "code",
   "execution_count": 33,
   "metadata": {},
   "outputs": [],
   "source": [
    "expe_click = expe[expe.click_bool == 1]"
   ]
  },
  {
   "cell_type": "code",
   "execution_count": 34,
   "metadata": {},
   "outputs": [],
   "source": [
    "# Split the dataset into training and validation sets\n",
    "train_b,valid_b = train_test_split(expe_click,test_size = 0.1,random_state = 1)"
   ]
  },
  {
   "cell_type": "code",
   "execution_count": 35,
   "metadata": {},
   "outputs": [],
   "source": [
    "train_xb = train_b.drop(columns = ['srch_id','click_bool','booking_bool'])\n",
    "train_yb = train_b['booking_bool']\n",
    "valid_xb = valid_b.drop(columns = ['srch_id','click_bool','booking_bool'])\n",
    "valid_yb = valid_b['booking_bool']"
   ]
  },
  {
   "cell_type": "markdown",
   "metadata": {},
   "source": [
    "### Fit a logit model"
   ]
  },
  {
   "cell_type": "code",
   "execution_count": 36,
   "metadata": {},
   "outputs": [
    {
     "name": "stdout",
     "output_type": "stream",
     "text": [
      "Optimization terminated successfully.\n",
      "         Current function value: 0.625988\n",
      "         Iterations 5\n"
     ]
    },
    {
     "data": {
      "text/html": [
       "<table class=\"simpletable\">\n",
       "<caption>Logit Regression Results</caption>\n",
       "<tr>\n",
       "  <th>Dep. Variable:</th>     <td>booking_bool</td>   <th>  No. Observations:  </th>   <td>  8047</td>  \n",
       "</tr>\n",
       "<tr>\n",
       "  <th>Model:</th>                 <td>Logit</td>      <th>  Df Residuals:      </th>   <td>  8034</td>  \n",
       "</tr>\n",
       "<tr>\n",
       "  <th>Method:</th>                 <td>MLE</td>       <th>  Df Model:          </th>   <td>    12</td>  \n",
       "</tr>\n",
       "<tr>\n",
       "  <th>Date:</th>            <td>Mon, 09 Mar 2020</td> <th>  Pseudo R-squ.:     </th>   <td>0.05234</td> \n",
       "</tr>\n",
       "<tr>\n",
       "  <th>Time:</th>                <td>20:47:47</td>     <th>  Log-Likelihood:    </th>  <td> -5037.3</td> \n",
       "</tr>\n",
       "<tr>\n",
       "  <th>converged:</th>             <td>True</td>       <th>  LL-Null:           </th>  <td> -5315.6</td> \n",
       "</tr>\n",
       "<tr>\n",
       "  <th>Covariance Type:</th>     <td>nonrobust</td>    <th>  LLR p-value:       </th> <td>2.076e-111</td>\n",
       "</tr>\n",
       "</table>\n",
       "<table class=\"simpletable\">\n",
       "<tr>\n",
       "              <td></td>                <th>coef</th>     <th>std err</th>      <th>z</th>      <th>P>|z|</th>  <th>[0.025</th>    <th>0.975]</th>  \n",
       "</tr>\n",
       "<tr>\n",
       "  <th>prop_starrating</th>          <td>   -0.0060</td> <td>    0.026</td> <td>   -0.235</td> <td> 0.814</td> <td>   -0.056</td> <td>    0.044</td>\n",
       "</tr>\n",
       "<tr>\n",
       "  <th>prop_review_score</th>        <td>    0.1679</td> <td>    0.029</td> <td>    5.817</td> <td> 0.000</td> <td>    0.111</td> <td>    0.224</td>\n",
       "</tr>\n",
       "<tr>\n",
       "  <th>prop_brand_bool</th>          <td>    0.1684</td> <td>    0.051</td> <td>    3.281</td> <td> 0.001</td> <td>    0.068</td> <td>    0.269</td>\n",
       "</tr>\n",
       "<tr>\n",
       "  <th>prop_location_score1</th>     <td>   -0.0266</td> <td>    0.016</td> <td>   -1.618</td> <td> 0.106</td> <td>   -0.059</td> <td>    0.006</td>\n",
       "</tr>\n",
       "<tr>\n",
       "  <th>price_usd</th>                <td> 6.315e-06</td> <td> 1.75e-05</td> <td>    0.360</td> <td> 0.719</td> <td> -2.8e-05</td> <td> 4.07e-05</td>\n",
       "</tr>\n",
       "<tr>\n",
       "  <th>promotion_flag</th>           <td>    0.4211</td> <td>    0.056</td> <td>    7.521</td> <td> 0.000</td> <td>    0.311</td> <td>    0.531</td>\n",
       "</tr>\n",
       "<tr>\n",
       "  <th>srch_length_of_stay</th>      <td>   -0.1877</td> <td>    0.014</td> <td>  -13.220</td> <td> 0.000</td> <td>   -0.216</td> <td>   -0.160</td>\n",
       "</tr>\n",
       "<tr>\n",
       "  <th>srch_booking_window</th>      <td>   -0.0039</td> <td>    0.000</td> <td>   -8.531</td> <td> 0.000</td> <td>   -0.005</td> <td>   -0.003</td>\n",
       "</tr>\n",
       "<tr>\n",
       "  <th>srch_adults_count</th>        <td>   -0.1473</td> <td>    0.032</td> <td>   -4.672</td> <td> 0.000</td> <td>   -0.209</td> <td>   -0.086</td>\n",
       "</tr>\n",
       "<tr>\n",
       "  <th>srch_children_count</th>      <td>   -0.0552</td> <td>    0.032</td> <td>   -1.705</td> <td> 0.088</td> <td>   -0.119</td> <td>    0.008</td>\n",
       "</tr>\n",
       "<tr>\n",
       "  <th>srch_room_count</th>          <td>    0.3893</td> <td>    0.070</td> <td>    5.559</td> <td> 0.000</td> <td>    0.252</td> <td>    0.527</td>\n",
       "</tr>\n",
       "<tr>\n",
       "  <th>srch_saturday_night_bool</th> <td>   -0.1179</td> <td>    0.049</td> <td>   -2.389</td> <td> 0.017</td> <td>   -0.215</td> <td>   -0.021</td>\n",
       "</tr>\n",
       "<tr>\n",
       "  <th>popular_score</th>            <td>    0.3203</td> <td>    0.078</td> <td>    4.097</td> <td> 0.000</td> <td>    0.167</td> <td>    0.473</td>\n",
       "</tr>\n",
       "</table>"
      ],
      "text/plain": [
       "<class 'statsmodels.iolib.summary.Summary'>\n",
       "\"\"\"\n",
       "                           Logit Regression Results                           \n",
       "==============================================================================\n",
       "Dep. Variable:           booking_bool   No. Observations:                 8047\n",
       "Model:                          Logit   Df Residuals:                     8034\n",
       "Method:                           MLE   Df Model:                           12\n",
       "Date:                Mon, 09 Mar 2020   Pseudo R-squ.:                 0.05234\n",
       "Time:                        20:47:47   Log-Likelihood:                -5037.3\n",
       "converged:                       True   LL-Null:                       -5315.6\n",
       "Covariance Type:            nonrobust   LLR p-value:                2.076e-111\n",
       "============================================================================================\n",
       "                               coef    std err          z      P>|z|      [0.025      0.975]\n",
       "--------------------------------------------------------------------------------------------\n",
       "prop_starrating             -0.0060      0.026     -0.235      0.814      -0.056       0.044\n",
       "prop_review_score            0.1679      0.029      5.817      0.000       0.111       0.224\n",
       "prop_brand_bool              0.1684      0.051      3.281      0.001       0.068       0.269\n",
       "prop_location_score1        -0.0266      0.016     -1.618      0.106      -0.059       0.006\n",
       "price_usd                 6.315e-06   1.75e-05      0.360      0.719    -2.8e-05    4.07e-05\n",
       "promotion_flag               0.4211      0.056      7.521      0.000       0.311       0.531\n",
       "srch_length_of_stay         -0.1877      0.014    -13.220      0.000      -0.216      -0.160\n",
       "srch_booking_window         -0.0039      0.000     -8.531      0.000      -0.005      -0.003\n",
       "srch_adults_count           -0.1473      0.032     -4.672      0.000      -0.209      -0.086\n",
       "srch_children_count         -0.0552      0.032     -1.705      0.088      -0.119       0.008\n",
       "srch_room_count              0.3893      0.070      5.559      0.000       0.252       0.527\n",
       "srch_saturday_night_bool    -0.1179      0.049     -2.389      0.017      -0.215      -0.021\n",
       "popular_score                0.3203      0.078      4.097      0.000       0.167       0.473\n",
       "============================================================================================\n",
       "\"\"\""
      ]
     },
     "execution_count": 36,
     "metadata": {},
     "output_type": "execute_result"
    }
   ],
   "source": [
    "model_logit_b = Logit(train_yb,train_xb).fit()\n",
    "model_logit_b.summary()"
   ]
  },
  {
   "cell_type": "code",
   "execution_count": 37,
   "metadata": {},
   "outputs": [
    {
     "name": "stdout",
     "output_type": "stream",
     "text": [
      "Optimization terminated successfully.\n",
      "         Current function value: 0.626365\n",
      "         Iterations 5\n"
     ]
    }
   ],
   "source": [
    "train_xb1 = train_xb.drop(columns = ['prop_starrating','prop_location_score1','price_usd','srch_children_count'])\n",
    "valid_xb1 = valid_xb.drop(columns = ['prop_starrating','prop_location_score1','price_usd','srch_children_count'])\n",
    "\n",
    "model_logit_b2 = Logit(train_yb,train_xb1).fit()"
   ]
  },
  {
   "cell_type": "code",
   "execution_count": 38,
   "metadata": {},
   "outputs": [
    {
     "name": "stdout",
     "output_type": "stream",
     "text": [
      "              precision    recall  f1-score   support\n",
      "\n",
      "           0       0.61      0.24      0.35       347\n",
      "           1       0.65      0.90      0.76       548\n",
      "\n",
      "    accuracy                           0.65       895\n",
      "   macro avg       0.63      0.57      0.55       895\n",
      "weighted avg       0.64      0.65      0.60       895\n",
      "\n"
     ]
    }
   ],
   "source": [
    "pred_yb1 = model_logit_b2.predict(valid_xb1)\n",
    "pred_yb1 = np.where(pred_yb1<=0.5,0,1)\n",
    "print(report(valid_yb,pred_yb1))"
   ]
  },
  {
   "cell_type": "markdown",
   "metadata": {},
   "source": [
    "### Fit a quadratic discriminant model"
   ]
  },
  {
   "cell_type": "code",
   "execution_count": 39,
   "metadata": {},
   "outputs": [],
   "source": [
    "model_qda_b = qda().fit(train_xb,train_yb)"
   ]
  },
  {
   "cell_type": "code",
   "execution_count": 40,
   "metadata": {},
   "outputs": [
    {
     "name": "stdout",
     "output_type": "stream",
     "text": [
      "              precision    recall  f1-score   support\n",
      "\n",
      "           0       0.39      0.98      0.56       347\n",
      "           1       0.77      0.04      0.07       548\n",
      "\n",
      "    accuracy                           0.40       895\n",
      "   macro avg       0.58      0.51      0.32       895\n",
      "weighted avg       0.62      0.40      0.26       895\n",
      "\n"
     ]
    }
   ],
   "source": [
    "pred_yb2 = model_qda_b.predict(valid_xb)\n",
    "print(report(valid_yb,pred_yb2))"
   ]
  },
  {
   "cell_type": "markdown",
   "metadata": {},
   "source": [
    "### Fit a random forest tree"
   ]
  },
  {
   "cell_type": "code",
   "execution_count": 41,
   "metadata": {},
   "outputs": [],
   "source": [
    "model_rf_b = rfc(max_features = 13).fit(train_xb,train_yb)"
   ]
  },
  {
   "cell_type": "code",
   "execution_count": 42,
   "metadata": {},
   "outputs": [
    {
     "name": "stdout",
     "output_type": "stream",
     "text": [
      "              precision    recall  f1-score   support\n",
      "\n",
      "           0       0.54      0.41      0.47       347\n",
      "           1       0.68      0.78      0.72       548\n",
      "\n",
      "    accuracy                           0.64       895\n",
      "   macro avg       0.61      0.60      0.60       895\n",
      "weighted avg       0.62      0.64      0.62       895\n",
      "\n"
     ]
    }
   ],
   "source": [
    "pred_yb3 = model_rf_b.predict(valid_xb)\n",
    "print(report(valid_yb,pred_yb3))"
   ]
  },
  {
   "cell_type": "markdown",
   "metadata": {},
   "source": [
    "The model selected is the __random forest tree__, with a recall of 0.78 and a specificity of 0.41."
   ]
  },
  {
   "cell_type": "markdown",
   "metadata": {},
   "source": [
    "### A scoring model that allows Expedia to rank order the list of properties for each customer based on the expected gross booking revenue:\n",
    "\n",
    "- Use clustering models to define different customer segments.\n",
    "- Train probability estimation models for different segments of customers just like (b) and (c) from Expedia webpage data. As we can see from this problem, the features of these models are combinations of customer features (such as countries, number of nights, etc.), and property features (such as star rating, review ranking, etc.).\n",
    "- When having a certain customer, first use his/her history to determine which customer segment he/she belongs to. Then, run the suitable models. If this is a new customer, use a general model trained from all customer data.\n",
    "- This chosen model can estimate the probability whether a customer will book a certain property. Therefore, the expected revenue of this certain property from this customer can be estimated as price * probability. The scoring model takes this estimated revenue as the key factor to rank different properties for this customer."
   ]
  },
  {
   "cell_type": "code",
   "execution_count": null,
   "metadata": {},
   "outputs": [],
   "source": []
  }
 ],
 "metadata": {
  "kernelspec": {
   "display_name": "Python 3",
   "language": "python",
   "name": "python3"
  },
  "language_info": {
   "codemirror_mode": {
    "name": "ipython",
    "version": 3
   },
   "file_extension": ".py",
   "mimetype": "text/x-python",
   "name": "python",
   "nbconvert_exporter": "python",
   "pygments_lexer": "ipython3",
   "version": "3.7.3"
  }
 },
 "nbformat": 4,
 "nbformat_minor": 2
}
