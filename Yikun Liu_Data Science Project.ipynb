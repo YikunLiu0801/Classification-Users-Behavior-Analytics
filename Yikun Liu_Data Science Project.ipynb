{
 "cells": [
  {
   "cell_type": "markdown",
   "metadata": {},
   "source": [
    "# Purchase User Behavior Analytics for Expedia"
   ]
  },
  {
   "cell_type": "markdown",
   "metadata": {},
   "source": [
    "Expedia.com, a large online travel agency (OTA), has collected a rich dataset on search behaviors. The dataset contains detailed information of all properties that were displayed in each search session (srch_id), whether the customer clicked on a property (click_bool) and whether he/she made a booking (booking_bool). \n",
    "\n",
    "Two business questions to be answered:\n",
    "1. Build a model that predicts the likelihood a property will be clicked upon (indicating the customer is interested)\n",
    "2. Build a model that predicts the likelihood a property that has been clicked upon will be booked\n"
   ]
  },
  {
   "cell_type": "code",
   "execution_count": 57,
   "metadata": {},
   "outputs": [],
   "source": [
    "import pandas as pd\n",
    "import numpy as np\n",
    "from statsmodels.formula.api import ols\n",
    "import matplotlib.pyplot as plt\n",
    "from sklearn.model_selection import train_test_split\n",
    "from sklearn.preprocessing import StandardScaler\n",
    "from scipy.spatial.distance import cdist \n",
    "from sklearn.metrics import classification_report as report\n",
    "from sklearn.ensemble import RandomForestClassifier as rfc\n",
    "from sklearn.ensemble import GradientBoostingClassifier as gbc\n",
    "from sklearn.svm import SVC\n",
    "from sklearn.cluster import KMeans \n",
    "%matplotlib inline"
   ]
  },
  {
   "cell_type": "code",
   "execution_count": 2,
   "metadata": {},
   "outputs": [],
   "source": [
    "expe = pd.read_csv('B8816-TakeHomeFinal-question4.csv')"
   ]
  },
  {
   "cell_type": "code",
   "execution_count": 3,
   "metadata": {},
   "outputs": [
    {
     "data": {
      "text/html": [
       "<div>\n",
       "<style scoped>\n",
       "    .dataframe tbody tr th:only-of-type {\n",
       "        vertical-align: middle;\n",
       "    }\n",
       "\n",
       "    .dataframe tbody tr th {\n",
       "        vertical-align: top;\n",
       "    }\n",
       "\n",
       "    .dataframe thead th {\n",
       "        text-align: right;\n",
       "    }\n",
       "</style>\n",
       "<table border=\"1\" class=\"dataframe\">\n",
       "  <thead>\n",
       "    <tr style=\"text-align: right;\">\n",
       "      <th></th>\n",
       "      <th>srch_id</th>\n",
       "      <th>date_time</th>\n",
       "      <th>site_id</th>\n",
       "      <th>visitor_location_country_id</th>\n",
       "      <th>visitor_hist_starrating</th>\n",
       "      <th>visitor_hist_adr_usd</th>\n",
       "      <th>prop_country_id</th>\n",
       "      <th>prop_id</th>\n",
       "      <th>prop_starrating</th>\n",
       "      <th>prop_review_score</th>\n",
       "      <th>...</th>\n",
       "      <th>comp6_rate_percent_diff</th>\n",
       "      <th>comp7_rate</th>\n",
       "      <th>comp7_inv</th>\n",
       "      <th>comp7_rate_percent_diff</th>\n",
       "      <th>comp8_rate</th>\n",
       "      <th>comp8_inv</th>\n",
       "      <th>comp8_rate_percent_diff</th>\n",
       "      <th>click_bool</th>\n",
       "      <th>gross_bookings_usd</th>\n",
       "      <th>booking_bool</th>\n",
       "    </tr>\n",
       "  </thead>\n",
       "  <tbody>\n",
       "    <tr>\n",
       "      <th>0</th>\n",
       "      <td>1</td>\n",
       "      <td>4/4/2013 8:32</td>\n",
       "      <td>12</td>\n",
       "      <td>187</td>\n",
       "      <td>NaN</td>\n",
       "      <td>NaN</td>\n",
       "      <td>219</td>\n",
       "      <td>893</td>\n",
       "      <td>3</td>\n",
       "      <td>3.5</td>\n",
       "      <td>...</td>\n",
       "      <td>NaN</td>\n",
       "      <td>NaN</td>\n",
       "      <td>NaN</td>\n",
       "      <td>NaN</td>\n",
       "      <td>0.0</td>\n",
       "      <td>0.0</td>\n",
       "      <td>NaN</td>\n",
       "      <td>0</td>\n",
       "      <td>NaN</td>\n",
       "      <td>0</td>\n",
       "    </tr>\n",
       "    <tr>\n",
       "      <th>1</th>\n",
       "      <td>1</td>\n",
       "      <td>4/4/2013 8:32</td>\n",
       "      <td>12</td>\n",
       "      <td>187</td>\n",
       "      <td>NaN</td>\n",
       "      <td>NaN</td>\n",
       "      <td>219</td>\n",
       "      <td>10404</td>\n",
       "      <td>4</td>\n",
       "      <td>4.0</td>\n",
       "      <td>...</td>\n",
       "      <td>NaN</td>\n",
       "      <td>NaN</td>\n",
       "      <td>NaN</td>\n",
       "      <td>NaN</td>\n",
       "      <td>0.0</td>\n",
       "      <td>0.0</td>\n",
       "      <td>NaN</td>\n",
       "      <td>0</td>\n",
       "      <td>NaN</td>\n",
       "      <td>0</td>\n",
       "    </tr>\n",
       "    <tr>\n",
       "      <th>2</th>\n",
       "      <td>1</td>\n",
       "      <td>4/4/2013 8:32</td>\n",
       "      <td>12</td>\n",
       "      <td>187</td>\n",
       "      <td>NaN</td>\n",
       "      <td>NaN</td>\n",
       "      <td>219</td>\n",
       "      <td>21315</td>\n",
       "      <td>3</td>\n",
       "      <td>4.5</td>\n",
       "      <td>...</td>\n",
       "      <td>NaN</td>\n",
       "      <td>NaN</td>\n",
       "      <td>NaN</td>\n",
       "      <td>NaN</td>\n",
       "      <td>0.0</td>\n",
       "      <td>0.0</td>\n",
       "      <td>NaN</td>\n",
       "      <td>0</td>\n",
       "      <td>NaN</td>\n",
       "      <td>0</td>\n",
       "    </tr>\n",
       "    <tr>\n",
       "      <th>3</th>\n",
       "      <td>1</td>\n",
       "      <td>4/4/2013 8:32</td>\n",
       "      <td>12</td>\n",
       "      <td>187</td>\n",
       "      <td>NaN</td>\n",
       "      <td>NaN</td>\n",
       "      <td>219</td>\n",
       "      <td>27348</td>\n",
       "      <td>2</td>\n",
       "      <td>4.0</td>\n",
       "      <td>...</td>\n",
       "      <td>NaN</td>\n",
       "      <td>NaN</td>\n",
       "      <td>NaN</td>\n",
       "      <td>NaN</td>\n",
       "      <td>-1.0</td>\n",
       "      <td>0.0</td>\n",
       "      <td>5.0</td>\n",
       "      <td>0</td>\n",
       "      <td>NaN</td>\n",
       "      <td>0</td>\n",
       "    </tr>\n",
       "    <tr>\n",
       "      <th>4</th>\n",
       "      <td>1</td>\n",
       "      <td>4/4/2013 8:32</td>\n",
       "      <td>12</td>\n",
       "      <td>187</td>\n",
       "      <td>NaN</td>\n",
       "      <td>NaN</td>\n",
       "      <td>219</td>\n",
       "      <td>29604</td>\n",
       "      <td>4</td>\n",
       "      <td>3.5</td>\n",
       "      <td>...</td>\n",
       "      <td>NaN</td>\n",
       "      <td>NaN</td>\n",
       "      <td>NaN</td>\n",
       "      <td>NaN</td>\n",
       "      <td>0.0</td>\n",
       "      <td>0.0</td>\n",
       "      <td>NaN</td>\n",
       "      <td>0</td>\n",
       "      <td>NaN</td>\n",
       "      <td>0</td>\n",
       "    </tr>\n",
       "    <tr>\n",
       "      <th>...</th>\n",
       "      <td>...</td>\n",
       "      <td>...</td>\n",
       "      <td>...</td>\n",
       "      <td>...</td>\n",
       "      <td>...</td>\n",
       "      <td>...</td>\n",
       "      <td>...</td>\n",
       "      <td>...</td>\n",
       "      <td>...</td>\n",
       "      <td>...</td>\n",
       "      <td>...</td>\n",
       "      <td>...</td>\n",
       "      <td>...</td>\n",
       "      <td>...</td>\n",
       "      <td>...</td>\n",
       "      <td>...</td>\n",
       "      <td>...</td>\n",
       "      <td>...</td>\n",
       "      <td>...</td>\n",
       "      <td>...</td>\n",
       "      <td>...</td>\n",
       "    </tr>\n",
       "    <tr>\n",
       "      <th>199995</th>\n",
       "      <td>13431</td>\n",
       "      <td>3/25/2013 10:55</td>\n",
       "      <td>5</td>\n",
       "      <td>219</td>\n",
       "      <td>NaN</td>\n",
       "      <td>NaN</td>\n",
       "      <td>219</td>\n",
       "      <td>101543</td>\n",
       "      <td>4</td>\n",
       "      <td>4.5</td>\n",
       "      <td>...</td>\n",
       "      <td>NaN</td>\n",
       "      <td>NaN</td>\n",
       "      <td>NaN</td>\n",
       "      <td>NaN</td>\n",
       "      <td>0.0</td>\n",
       "      <td>0.0</td>\n",
       "      <td>NaN</td>\n",
       "      <td>0</td>\n",
       "      <td>NaN</td>\n",
       "      <td>0</td>\n",
       "    </tr>\n",
       "    <tr>\n",
       "      <th>199996</th>\n",
       "      <td>13431</td>\n",
       "      <td>3/25/2013 10:55</td>\n",
       "      <td>5</td>\n",
       "      <td>219</td>\n",
       "      <td>NaN</td>\n",
       "      <td>NaN</td>\n",
       "      <td>219</td>\n",
       "      <td>101874</td>\n",
       "      <td>3</td>\n",
       "      <td>3.5</td>\n",
       "      <td>...</td>\n",
       "      <td>NaN</td>\n",
       "      <td>NaN</td>\n",
       "      <td>NaN</td>\n",
       "      <td>NaN</td>\n",
       "      <td>0.0</td>\n",
       "      <td>0.0</td>\n",
       "      <td>NaN</td>\n",
       "      <td>0</td>\n",
       "      <td>NaN</td>\n",
       "      <td>0</td>\n",
       "    </tr>\n",
       "    <tr>\n",
       "      <th>199997</th>\n",
       "      <td>13431</td>\n",
       "      <td>3/25/2013 10:55</td>\n",
       "      <td>5</td>\n",
       "      <td>219</td>\n",
       "      <td>NaN</td>\n",
       "      <td>NaN</td>\n",
       "      <td>219</td>\n",
       "      <td>103830</td>\n",
       "      <td>3</td>\n",
       "      <td>4.0</td>\n",
       "      <td>...</td>\n",
       "      <td>NaN</td>\n",
       "      <td>NaN</td>\n",
       "      <td>NaN</td>\n",
       "      <td>NaN</td>\n",
       "      <td>0.0</td>\n",
       "      <td>0.0</td>\n",
       "      <td>NaN</td>\n",
       "      <td>0</td>\n",
       "      <td>NaN</td>\n",
       "      <td>0</td>\n",
       "    </tr>\n",
       "    <tr>\n",
       "      <th>199998</th>\n",
       "      <td>13431</td>\n",
       "      <td>3/25/2013 10:55</td>\n",
       "      <td>5</td>\n",
       "      <td>219</td>\n",
       "      <td>NaN</td>\n",
       "      <td>NaN</td>\n",
       "      <td>219</td>\n",
       "      <td>112479</td>\n",
       "      <td>4</td>\n",
       "      <td>4.0</td>\n",
       "      <td>...</td>\n",
       "      <td>NaN</td>\n",
       "      <td>NaN</td>\n",
       "      <td>NaN</td>\n",
       "      <td>NaN</td>\n",
       "      <td>0.0</td>\n",
       "      <td>0.0</td>\n",
       "      <td>NaN</td>\n",
       "      <td>0</td>\n",
       "      <td>NaN</td>\n",
       "      <td>0</td>\n",
       "    </tr>\n",
       "    <tr>\n",
       "      <th>199999</th>\n",
       "      <td>13431</td>\n",
       "      <td>3/25/2013 10:55</td>\n",
       "      <td>5</td>\n",
       "      <td>219</td>\n",
       "      <td>NaN</td>\n",
       "      <td>NaN</td>\n",
       "      <td>219</td>\n",
       "      <td>120403</td>\n",
       "      <td>3</td>\n",
       "      <td>3.5</td>\n",
       "      <td>...</td>\n",
       "      <td>NaN</td>\n",
       "      <td>NaN</td>\n",
       "      <td>NaN</td>\n",
       "      <td>NaN</td>\n",
       "      <td>0.0</td>\n",
       "      <td>0.0</td>\n",
       "      <td>NaN</td>\n",
       "      <td>0</td>\n",
       "      <td>NaN</td>\n",
       "      <td>0</td>\n",
       "    </tr>\n",
       "  </tbody>\n",
       "</table>\n",
       "<p>200000 rows × 54 columns</p>\n",
       "</div>"
      ],
      "text/plain": [
       "        srch_id        date_time  site_id  visitor_location_country_id  \\\n",
       "0             1    4/4/2013 8:32       12                          187   \n",
       "1             1    4/4/2013 8:32       12                          187   \n",
       "2             1    4/4/2013 8:32       12                          187   \n",
       "3             1    4/4/2013 8:32       12                          187   \n",
       "4             1    4/4/2013 8:32       12                          187   \n",
       "...         ...              ...      ...                          ...   \n",
       "199995    13431  3/25/2013 10:55        5                          219   \n",
       "199996    13431  3/25/2013 10:55        5                          219   \n",
       "199997    13431  3/25/2013 10:55        5                          219   \n",
       "199998    13431  3/25/2013 10:55        5                          219   \n",
       "199999    13431  3/25/2013 10:55        5                          219   \n",
       "\n",
       "        visitor_hist_starrating  visitor_hist_adr_usd  prop_country_id  \\\n",
       "0                           NaN                   NaN              219   \n",
       "1                           NaN                   NaN              219   \n",
       "2                           NaN                   NaN              219   \n",
       "3                           NaN                   NaN              219   \n",
       "4                           NaN                   NaN              219   \n",
       "...                         ...                   ...              ...   \n",
       "199995                      NaN                   NaN              219   \n",
       "199996                      NaN                   NaN              219   \n",
       "199997                      NaN                   NaN              219   \n",
       "199998                      NaN                   NaN              219   \n",
       "199999                      NaN                   NaN              219   \n",
       "\n",
       "        prop_id  prop_starrating  prop_review_score  ...  \\\n",
       "0           893                3                3.5  ...   \n",
       "1         10404                4                4.0  ...   \n",
       "2         21315                3                4.5  ...   \n",
       "3         27348                2                4.0  ...   \n",
       "4         29604                4                3.5  ...   \n",
       "...         ...              ...                ...  ...   \n",
       "199995   101543                4                4.5  ...   \n",
       "199996   101874                3                3.5  ...   \n",
       "199997   103830                3                4.0  ...   \n",
       "199998   112479                4                4.0  ...   \n",
       "199999   120403                3                3.5  ...   \n",
       "\n",
       "        comp6_rate_percent_diff  comp7_rate  comp7_inv  \\\n",
       "0                           NaN         NaN        NaN   \n",
       "1                           NaN         NaN        NaN   \n",
       "2                           NaN         NaN        NaN   \n",
       "3                           NaN         NaN        NaN   \n",
       "4                           NaN         NaN        NaN   \n",
       "...                         ...         ...        ...   \n",
       "199995                      NaN         NaN        NaN   \n",
       "199996                      NaN         NaN        NaN   \n",
       "199997                      NaN         NaN        NaN   \n",
       "199998                      NaN         NaN        NaN   \n",
       "199999                      NaN         NaN        NaN   \n",
       "\n",
       "        comp7_rate_percent_diff  comp8_rate  comp8_inv  \\\n",
       "0                           NaN         0.0        0.0   \n",
       "1                           NaN         0.0        0.0   \n",
       "2                           NaN         0.0        0.0   \n",
       "3                           NaN        -1.0        0.0   \n",
       "4                           NaN         0.0        0.0   \n",
       "...                         ...         ...        ...   \n",
       "199995                      NaN         0.0        0.0   \n",
       "199996                      NaN         0.0        0.0   \n",
       "199997                      NaN         0.0        0.0   \n",
       "199998                      NaN         0.0        0.0   \n",
       "199999                      NaN         0.0        0.0   \n",
       "\n",
       "        comp8_rate_percent_diff  click_bool  gross_bookings_usd  booking_bool  \n",
       "0                           NaN           0                 NaN             0  \n",
       "1                           NaN           0                 NaN             0  \n",
       "2                           NaN           0                 NaN             0  \n",
       "3                           5.0           0                 NaN             0  \n",
       "4                           NaN           0                 NaN             0  \n",
       "...                         ...         ...                 ...           ...  \n",
       "199995                      NaN           0                 NaN             0  \n",
       "199996                      NaN           0                 NaN             0  \n",
       "199997                      NaN           0                 NaN             0  \n",
       "199998                      NaN           0                 NaN             0  \n",
       "199999                      NaN           0                 NaN             0  \n",
       "\n",
       "[200000 rows x 54 columns]"
      ]
     },
     "execution_count": 3,
     "metadata": {},
     "output_type": "execute_result"
    }
   ],
   "source": [
    "expe"
   ]
  },
  {
   "cell_type": "code",
   "execution_count": 4,
   "metadata": {},
   "outputs": [
    {
     "name": "stdout",
     "output_type": "stream",
     "text": [
      "<class 'pandas.core.frame.DataFrame'>\n",
      "RangeIndex: 200000 entries, 0 to 199999\n",
      "Data columns (total 54 columns):\n",
      " #   Column                       Non-Null Count   Dtype  \n",
      "---  ------                       --------------   -----  \n",
      " 0   srch_id                      200000 non-null  int64  \n",
      " 1   date_time                    200000 non-null  object \n",
      " 2   site_id                      200000 non-null  int64  \n",
      " 3   visitor_location_country_id  200000 non-null  int64  \n",
      " 4   visitor_hist_starrating      10831 non-null   float64\n",
      " 5   visitor_hist_adr_usd         10859 non-null   float64\n",
      " 6   prop_country_id              200000 non-null  int64  \n",
      " 7   prop_id                      200000 non-null  int64  \n",
      " 8   prop_starrating              200000 non-null  int64  \n",
      " 9   prop_review_score            199719 non-null  float64\n",
      " 10  prop_brand_bool              200000 non-null  int64  \n",
      " 11  prop_location_score1         200000 non-null  float64\n",
      " 12  prop_location_score2         156405 non-null  float64\n",
      " 13  prop_log_historical_price    200000 non-null  float64\n",
      " 14  position                     200000 non-null  int64  \n",
      " 15  price_usd                    200000 non-null  float64\n",
      " 16  promotion_flag               200000 non-null  int64  \n",
      " 17  srch_destination_id          200000 non-null  int64  \n",
      " 18  srch_length_of_stay          200000 non-null  int64  \n",
      " 19  srch_booking_window          200000 non-null  int64  \n",
      " 20  srch_adults_count            200000 non-null  int64  \n",
      " 21  srch_children_count          200000 non-null  int64  \n",
      " 22  srch_room_count              200000 non-null  int64  \n",
      " 23  srch_saturday_night_bool     200000 non-null  int64  \n",
      " 24  srch_query_affinity_score    12703 non-null   float64\n",
      " 25  orig_destination_distance    134629 non-null  float64\n",
      " 26  random_bool                  200000 non-null  int64  \n",
      " 27  comp1_rate                   4578 non-null    float64\n",
      " 28  comp1_inv                    4922 non-null    float64\n",
      " 29  comp1_rate_percent_diff      3649 non-null    float64\n",
      " 30  comp2_rate                   81248 non-null   float64\n",
      " 31  comp2_inv                    85444 non-null   float64\n",
      " 32  comp2_rate_percent_diff      22112 non-null   float64\n",
      " 33  comp3_rate                   62070 non-null   float64\n",
      " 34  comp3_inv                    66683 non-null   float64\n",
      " 35  comp3_rate_percent_diff      18900 non-null   float64\n",
      " 36  comp4_rate                   12193 non-null   float64\n",
      " 37  comp4_inv                    13562 non-null   float64\n",
      " 38  comp4_rate_percent_diff      5146 non-null    float64\n",
      " 39  comp5_rate                   89447 non-null   float64\n",
      " 40  comp5_inv                    94968 non-null   float64\n",
      " 41  comp5_rate_percent_diff      33322 non-null   float64\n",
      " 42  comp6_rate                   10106 non-null   float64\n",
      " 43  comp6_inv                    10984 non-null   float64\n",
      " 44  comp6_rate_percent_diff      4020 non-null    float64\n",
      " 45  comp7_rate                   13051 non-null   float64\n",
      " 46  comp7_inv                    14679 non-null   float64\n",
      " 47  comp7_rate_percent_diff      5836 non-null    float64\n",
      " 48  comp8_rate                   76468 non-null   float64\n",
      " 49  comp8_inv                    79433 non-null   float64\n",
      " 50  comp8_rate_percent_diff      24365 non-null   float64\n",
      " 51  click_bool                   200000 non-null  int64  \n",
      " 52  gross_bookings_usd           5599 non-null    float64\n",
      " 53  booking_bool                 200000 non-null  int64  \n",
      "dtypes: float64(34), int64(19), object(1)\n",
      "memory usage: 82.4+ MB\n"
     ]
    }
   ],
   "source": [
    "expe.info()"
   ]
  },
  {
   "cell_type": "markdown",
   "metadata": {},
   "source": [
    "## Data Preprocessing"
   ]
  },
  {
   "cell_type": "markdown",
   "metadata": {},
   "source": [
    "### Missing Values Imputation"
   ]
  },
  {
   "cell_type": "code",
   "execution_count": 5,
   "metadata": {},
   "outputs": [],
   "source": [
    "# drop columns that probably won't contribute much information to the clicking and booking prediction\n",
    "drop_columns = ['srch_id','date_time','visitor_hist_starrating','visitor_hist_adr_usd','prop_id','prop_country_id','srch_query_affinity_score','orig_destination_distance']\n",
    "expe = expe.drop(columns = drop_columns)"
   ]
  },
  {
   "cell_type": "code",
   "execution_count": 6,
   "metadata": {},
   "outputs": [
    {
     "name": "stdout",
     "output_type": "stream",
     "text": [
      "<class 'pandas.core.frame.DataFrame'>\n",
      "RangeIndex: 200000 entries, 0 to 199999\n",
      "Data columns (total 46 columns):\n",
      " #   Column                       Non-Null Count   Dtype  \n",
      "---  ------                       --------------   -----  \n",
      " 0   site_id                      200000 non-null  int64  \n",
      " 1   visitor_location_country_id  200000 non-null  int64  \n",
      " 2   prop_starrating              200000 non-null  int64  \n",
      " 3   prop_review_score            199719 non-null  float64\n",
      " 4   prop_brand_bool              200000 non-null  int64  \n",
      " 5   prop_location_score1         200000 non-null  float64\n",
      " 6   prop_location_score2         156405 non-null  float64\n",
      " 7   prop_log_historical_price    200000 non-null  float64\n",
      " 8   position                     200000 non-null  int64  \n",
      " 9   price_usd                    200000 non-null  float64\n",
      " 10  promotion_flag               200000 non-null  int64  \n",
      " 11  srch_destination_id          200000 non-null  int64  \n",
      " 12  srch_length_of_stay          200000 non-null  int64  \n",
      " 13  srch_booking_window          200000 non-null  int64  \n",
      " 14  srch_adults_count            200000 non-null  int64  \n",
      " 15  srch_children_count          200000 non-null  int64  \n",
      " 16  srch_room_count              200000 non-null  int64  \n",
      " 17  srch_saturday_night_bool     200000 non-null  int64  \n",
      " 18  random_bool                  200000 non-null  int64  \n",
      " 19  comp1_rate                   4578 non-null    float64\n",
      " 20  comp1_inv                    4922 non-null    float64\n",
      " 21  comp1_rate_percent_diff      3649 non-null    float64\n",
      " 22  comp2_rate                   81248 non-null   float64\n",
      " 23  comp2_inv                    85444 non-null   float64\n",
      " 24  comp2_rate_percent_diff      22112 non-null   float64\n",
      " 25  comp3_rate                   62070 non-null   float64\n",
      " 26  comp3_inv                    66683 non-null   float64\n",
      " 27  comp3_rate_percent_diff      18900 non-null   float64\n",
      " 28  comp4_rate                   12193 non-null   float64\n",
      " 29  comp4_inv                    13562 non-null   float64\n",
      " 30  comp4_rate_percent_diff      5146 non-null    float64\n",
      " 31  comp5_rate                   89447 non-null   float64\n",
      " 32  comp5_inv                    94968 non-null   float64\n",
      " 33  comp5_rate_percent_diff      33322 non-null   float64\n",
      " 34  comp6_rate                   10106 non-null   float64\n",
      " 35  comp6_inv                    10984 non-null   float64\n",
      " 36  comp6_rate_percent_diff      4020 non-null    float64\n",
      " 37  comp7_rate                   13051 non-null   float64\n",
      " 38  comp7_inv                    14679 non-null   float64\n",
      " 39  comp7_rate_percent_diff      5836 non-null    float64\n",
      " 40  comp8_rate                   76468 non-null   float64\n",
      " 41  comp8_inv                    79433 non-null   float64\n",
      " 42  comp8_rate_percent_diff      24365 non-null   float64\n",
      " 43  click_bool                   200000 non-null  int64  \n",
      " 44  gross_bookings_usd           5599 non-null    float64\n",
      " 45  booking_bool                 200000 non-null  int64  \n",
      "dtypes: float64(30), int64(16)\n",
      "memory usage: 70.2 MB\n"
     ]
    }
   ],
   "source": [
    "expe.info()"
   ]
  },
  {
   "cell_type": "markdown",
   "metadata": {},
   "source": [
    "Since there are many null data in competitors' data, we have to integrate some infomation.\n",
    "\n",
    "First, calculate number of competitors with lower price and avalibility, which is the 'real' competitors for Expedia."
   ]
  },
  {
   "cell_type": "code",
   "execution_count": 7,
   "metadata": {},
   "outputs": [],
   "source": [
    "columns1 = ['comp1_rate','comp2_rate','comp3_rate','comp4_rate','comp5_rate','comp6_rate','comp7_rate','comp8_rate']\n",
    "columns2 = ['comp1_inv','comp2_inv','comp3_inv','comp4_inv','comp5_inv','comp6_inv','comp7_inv','comp8_inv']\n",
    "expe['Num_comp'] = ((expe[columns1] == 1) &(expe[columns2] == -1)).sum(axis = 1)"
   ]
  },
  {
   "cell_type": "code",
   "execution_count": 8,
   "metadata": {},
   "outputs": [
    {
     "data": {
      "text/plain": [
       "0    200000\n",
       "Name: Num_comp, dtype: int64"
      ]
     },
     "execution_count": 8,
     "metadata": {},
     "output_type": "execute_result"
    }
   ],
   "source": [
    "expe['Num_comp'].value_counts()"
   ]
  },
  {
   "cell_type": "markdown",
   "metadata": {},
   "source": [
    "It turns out that __no competitor have both avalibility and lower price__, which means we don't have to worry about competitors."
   ]
  },
  {
   "cell_type": "code",
   "execution_count": 9,
   "metadata": {},
   "outputs": [],
   "source": [
    "columns3 = ['comp1_rate_percent_diff','comp2_rate_percent_diff','comp3_rate_percent_diff','comp4_rate_percent_diff','comp5_rate_percent_diff','comp6_rate_percent_diff','comp7_rate_percent_diff','comp8_rate_percent_diff']\n",
    "expe = expe.drop(columns = columns1)\n",
    "expe = expe.drop(columns = columns2)\n",
    "expe = expe.drop(columns = columns3)\n",
    "expe = expe.drop(columns = ['Num_comp'])"
   ]
  },
  {
   "cell_type": "markdown",
   "metadata": {},
   "source": [
    "The 'gross_bookings_usd' indicates similar information of 'price_usd' and 'booking_bool', but has a lot of missing values. Drop this column."
   ]
  },
  {
   "cell_type": "code",
   "execution_count": 10,
   "metadata": {},
   "outputs": [],
   "source": [
    "expe = expe.drop(columns = ['gross_bookings_usd'])"
   ]
  },
  {
   "cell_type": "code",
   "execution_count": 11,
   "metadata": {},
   "outputs": [
    {
     "name": "stdout",
     "output_type": "stream",
     "text": [
      "<class 'pandas.core.frame.DataFrame'>\n",
      "RangeIndex: 200000 entries, 0 to 199999\n",
      "Data columns (total 21 columns):\n",
      " #   Column                       Non-Null Count   Dtype  \n",
      "---  ------                       --------------   -----  \n",
      " 0   site_id                      200000 non-null  int64  \n",
      " 1   visitor_location_country_id  200000 non-null  int64  \n",
      " 2   prop_starrating              200000 non-null  int64  \n",
      " 3   prop_review_score            199719 non-null  float64\n",
      " 4   prop_brand_bool              200000 non-null  int64  \n",
      " 5   prop_location_score1         200000 non-null  float64\n",
      " 6   prop_location_score2         156405 non-null  float64\n",
      " 7   prop_log_historical_price    200000 non-null  float64\n",
      " 8   position                     200000 non-null  int64  \n",
      " 9   price_usd                    200000 non-null  float64\n",
      " 10  promotion_flag               200000 non-null  int64  \n",
      " 11  srch_destination_id          200000 non-null  int64  \n",
      " 12  srch_length_of_stay          200000 non-null  int64  \n",
      " 13  srch_booking_window          200000 non-null  int64  \n",
      " 14  srch_adults_count            200000 non-null  int64  \n",
      " 15  srch_children_count          200000 non-null  int64  \n",
      " 16  srch_room_count              200000 non-null  int64  \n",
      " 17  srch_saturday_night_bool     200000 non-null  int64  \n",
      " 18  random_bool                  200000 non-null  int64  \n",
      " 19  click_bool                   200000 non-null  int64  \n",
      " 20  booking_bool                 200000 non-null  int64  \n",
      "dtypes: float64(5), int64(16)\n",
      "memory usage: 32.0 MB\n"
     ]
    }
   ],
   "source": [
    "expe.info()"
   ]
  },
  {
   "cell_type": "markdown",
   "metadata": {},
   "source": [
    "Fill the rest of the missing values with 0."
   ]
  },
  {
   "cell_type": "code",
   "execution_count": 12,
   "metadata": {},
   "outputs": [],
   "source": [
    "expe.replace(np.nan,0,inplace=True)"
   ]
  },
  {
   "cell_type": "markdown",
   "metadata": {},
   "source": [
    "### Exploratory Data Analysis"
   ]
  },
  {
   "cell_type": "code",
   "execution_count": 13,
   "metadata": {},
   "outputs": [
    {
     "data": {
      "text/plain": [
       "0    157082\n",
       "1     42918\n",
       "Name: promotion_flag, dtype: int64"
      ]
     },
     "execution_count": 13,
     "metadata": {},
     "output_type": "execute_result"
    }
   ],
   "source": [
    "expe.promotion_flag.value_counts()"
   ]
  },
  {
   "cell_type": "code",
   "execution_count": 14,
   "metadata": {},
   "outputs": [
    {
     "data": {
      "text/plain": [
       "3.7934725"
      ]
     },
     "execution_count": 14,
     "metadata": {},
     "output_type": "execute_result"
    }
   ],
   "source": [
    "np.mean(expe.prop_review_score)"
   ]
  },
  {
   "cell_type": "code",
   "execution_count": 15,
   "metadata": {},
   "outputs": [
    {
     "data": {
      "text/plain": [
       "3.197935"
      ]
     },
     "execution_count": 15,
     "metadata": {},
     "output_type": "execute_result"
    }
   ],
   "source": [
    "np.mean(expe.prop_starrating)"
   ]
  },
  {
   "cell_type": "code",
   "execution_count": 16,
   "metadata": {},
   "outputs": [
    {
     "data": {
      "text/plain": [
       "0    191046\n",
       "1      8954\n",
       "Name: click_bool, dtype: int64"
      ]
     },
     "execution_count": 16,
     "metadata": {},
     "output_type": "execute_result"
    }
   ],
   "source": [
    "expe.click_bool.value_counts()"
   ]
  },
  {
   "cell_type": "markdown",
   "metadata": {},
   "source": [
    "Only 4% of the properties are clicked.\n",
    "\n",
    "This ratio is very low, which means that if we fit a model with this unbalanced dataset, it is very likely that the click_bool prediction from the model will all be 0. Also as clicking and booking is more valuable than not for Expedia, the cost function should be altered so that the false negative will be penalized more. So we have to do resampling. "
   ]
  },
  {
   "cell_type": "code",
   "execution_count": 17,
   "metadata": {},
   "outputs": [
    {
     "data": {
      "text/plain": [
       "1    5599\n",
       "0    3355\n",
       "Name: booking_bool, dtype: int64"
      ]
     },
     "execution_count": 17,
     "metadata": {},
     "output_type": "execute_result"
    }
   ],
   "source": [
    "expe[expe.click_bool == 1].booking_bool.value_counts()"
   ]
  },
  {
   "attachments": {},
   "cell_type": "markdown",
   "metadata": {},
   "source": [
    "#### Some insights:\n",
    "\n",
    "- 20% of the properties have promotion displayed.\n",
    "- The mean of property review score is 3.8.\n",
    "- The mean of property star rating is 3.2.\n",
    "- __Only 4% of the properties are clicked.__\n",
    "This ratio is very low, which means that if we fit a model with this unbalanced dataset, it is very likely that the click_bool prediction from the model will all be 0. Also as clicking and booking is more valuable than not for Expedia, the cost function should be altered so that the false negative will be penalized more. So we have to do resampling.\n",
    "- Among all the properties that are clicked, about 63% of the properties are booked, which is quite a high ratio. There's no resampling needed when predicting booking_bool.\n"
   ]
  },
  {
   "cell_type": "markdown",
   "metadata": {},
   "source": [
    "### Use Clustering to Refine the Dataset"
   ]
  },
  {
   "cell_type": "markdown",
   "metadata": {},
   "source": [
    "When trying to predict the click_bool, intuitively the clicking behavior from a certain user can be very random, and the clicking behavior itself is very sparse. __We use clustering methods to first define clustering of users and hotels__, in order to find a clearer clue of a more general trend of what kind of users are more likely to click a certain kind of hotels.\n",
    "\n",
    "__K-means__ is used here to do the clustering. "
   ]
  },
  {
   "cell_type": "code",
   "execution_count": 18,
   "metadata": {},
   "outputs": [],
   "source": [
    "feature_vis = ['site_id','visitor_location_country_id','srch_length_of_stay','srch_booking_window',\\\n",
    "               'srch_adults_count','srch_children_count','srch_room_count','srch_saturday_night_bool']\n",
    "feature_hot = ['prop_starrating','prop_review_score','prop_brand_bool','prop_location_score1','prop_location_score2',\\\n",
    "              'prop_log_historical_price','srch_destination_id']"
   ]
  },
  {
   "cell_type": "code",
   "execution_count": 19,
   "metadata": {},
   "outputs": [],
   "source": [
    "x = expe.iloc[:,:19]\n",
    "y_c = expe.iloc[:,19]\n",
    "y_b = expe.iloc[:,20]"
   ]
  },
  {
   "cell_type": "markdown",
   "metadata": {},
   "source": [
    "Due to the attribution of this method, the features have to be normalized first."
   ]
  },
  {
   "cell_type": "code",
   "execution_count": 20,
   "metadata": {},
   "outputs": [],
   "source": [
    "visitor = StandardScaler().fit_transform(x[feature_vis])\n",
    "hotel = StandardScaler().fit_transform(x[feature_hot])"
   ]
  },
  {
   "cell_type": "code",
   "execution_count": 21,
   "metadata": {},
   "outputs": [
    {
     "data": {
      "text/html": [
       "<div>\n",
       "<style scoped>\n",
       "    .dataframe tbody tr th:only-of-type {\n",
       "        vertical-align: middle;\n",
       "    }\n",
       "\n",
       "    .dataframe tbody tr th {\n",
       "        vertical-align: top;\n",
       "    }\n",
       "\n",
       "    .dataframe thead th {\n",
       "        text-align: right;\n",
       "    }\n",
       "</style>\n",
       "<table border=\"1\" class=\"dataframe\">\n",
       "  <thead>\n",
       "    <tr style=\"text-align: right;\">\n",
       "      <th></th>\n",
       "      <th>site_id</th>\n",
       "      <th>visitor_location_country_id</th>\n",
       "      <th>srch_length_of_stay</th>\n",
       "      <th>srch_booking_window</th>\n",
       "      <th>srch_adults_count</th>\n",
       "      <th>srch_children_count</th>\n",
       "      <th>srch_room_count</th>\n",
       "      <th>srch_saturday_night_bool</th>\n",
       "    </tr>\n",
       "  </thead>\n",
       "  <tbody>\n",
       "    <tr>\n",
       "      <th>0</th>\n",
       "      <td>0.272105</td>\n",
       "      <td>0.169954</td>\n",
       "      <td>-0.671561</td>\n",
       "      <td>-0.722370</td>\n",
       "      <td>2.452404</td>\n",
       "      <td>-0.486528</td>\n",
       "      <td>-0.269187</td>\n",
       "      <td>1.003035</td>\n",
       "    </tr>\n",
       "    <tr>\n",
       "      <th>1</th>\n",
       "      <td>0.272105</td>\n",
       "      <td>0.169954</td>\n",
       "      <td>-0.671561</td>\n",
       "      <td>-0.722370</td>\n",
       "      <td>2.452404</td>\n",
       "      <td>-0.486528</td>\n",
       "      <td>-0.269187</td>\n",
       "      <td>1.003035</td>\n",
       "    </tr>\n",
       "    <tr>\n",
       "      <th>2</th>\n",
       "      <td>0.272105</td>\n",
       "      <td>0.169954</td>\n",
       "      <td>-0.671561</td>\n",
       "      <td>-0.722370</td>\n",
       "      <td>2.452404</td>\n",
       "      <td>-0.486528</td>\n",
       "      <td>-0.269187</td>\n",
       "      <td>1.003035</td>\n",
       "    </tr>\n",
       "    <tr>\n",
       "      <th>3</th>\n",
       "      <td>0.272105</td>\n",
       "      <td>0.169954</td>\n",
       "      <td>-0.671561</td>\n",
       "      <td>-0.722370</td>\n",
       "      <td>2.452404</td>\n",
       "      <td>-0.486528</td>\n",
       "      <td>-0.269187</td>\n",
       "      <td>1.003035</td>\n",
       "    </tr>\n",
       "    <tr>\n",
       "      <th>4</th>\n",
       "      <td>0.272105</td>\n",
       "      <td>0.169954</td>\n",
       "      <td>-0.671561</td>\n",
       "      <td>-0.722370</td>\n",
       "      <td>2.452404</td>\n",
       "      <td>-0.486528</td>\n",
       "      <td>-0.269187</td>\n",
       "      <td>1.003035</td>\n",
       "    </tr>\n",
       "    <tr>\n",
       "      <th>...</th>\n",
       "      <td>...</td>\n",
       "      <td>...</td>\n",
       "      <td>...</td>\n",
       "      <td>...</td>\n",
       "      <td>...</td>\n",
       "      <td>...</td>\n",
       "      <td>...</td>\n",
       "      <td>...</td>\n",
       "    </tr>\n",
       "    <tr>\n",
       "      <th>199995</th>\n",
       "      <td>-0.639329</td>\n",
       "      <td>0.652237</td>\n",
       "      <td>-0.183306</td>\n",
       "      <td>-0.516153</td>\n",
       "      <td>-1.153321</td>\n",
       "      <td>0.896971</td>\n",
       "      <td>-0.269187</td>\n",
       "      <td>1.003035</td>\n",
       "    </tr>\n",
       "    <tr>\n",
       "      <th>199996</th>\n",
       "      <td>-0.639329</td>\n",
       "      <td>0.652237</td>\n",
       "      <td>-0.183306</td>\n",
       "      <td>-0.516153</td>\n",
       "      <td>-1.153321</td>\n",
       "      <td>0.896971</td>\n",
       "      <td>-0.269187</td>\n",
       "      <td>1.003035</td>\n",
       "    </tr>\n",
       "    <tr>\n",
       "      <th>199997</th>\n",
       "      <td>-0.639329</td>\n",
       "      <td>0.652237</td>\n",
       "      <td>-0.183306</td>\n",
       "      <td>-0.516153</td>\n",
       "      <td>-1.153321</td>\n",
       "      <td>0.896971</td>\n",
       "      <td>-0.269187</td>\n",
       "      <td>1.003035</td>\n",
       "    </tr>\n",
       "    <tr>\n",
       "      <th>199998</th>\n",
       "      <td>-0.639329</td>\n",
       "      <td>0.652237</td>\n",
       "      <td>-0.183306</td>\n",
       "      <td>-0.516153</td>\n",
       "      <td>-1.153321</td>\n",
       "      <td>0.896971</td>\n",
       "      <td>-0.269187</td>\n",
       "      <td>1.003035</td>\n",
       "    </tr>\n",
       "    <tr>\n",
       "      <th>199999</th>\n",
       "      <td>-0.639329</td>\n",
       "      <td>0.652237</td>\n",
       "      <td>-0.183306</td>\n",
       "      <td>-0.516153</td>\n",
       "      <td>-1.153321</td>\n",
       "      <td>0.896971</td>\n",
       "      <td>-0.269187</td>\n",
       "      <td>1.003035</td>\n",
       "    </tr>\n",
       "  </tbody>\n",
       "</table>\n",
       "<p>200000 rows × 8 columns</p>\n",
       "</div>"
      ],
      "text/plain": [
       "         site_id  visitor_location_country_id  srch_length_of_stay  \\\n",
       "0       0.272105                     0.169954            -0.671561   \n",
       "1       0.272105                     0.169954            -0.671561   \n",
       "2       0.272105                     0.169954            -0.671561   \n",
       "3       0.272105                     0.169954            -0.671561   \n",
       "4       0.272105                     0.169954            -0.671561   \n",
       "...          ...                          ...                  ...   \n",
       "199995 -0.639329                     0.652237            -0.183306   \n",
       "199996 -0.639329                     0.652237            -0.183306   \n",
       "199997 -0.639329                     0.652237            -0.183306   \n",
       "199998 -0.639329                     0.652237            -0.183306   \n",
       "199999 -0.639329                     0.652237            -0.183306   \n",
       "\n",
       "        srch_booking_window  srch_adults_count  srch_children_count  \\\n",
       "0                 -0.722370           2.452404            -0.486528   \n",
       "1                 -0.722370           2.452404            -0.486528   \n",
       "2                 -0.722370           2.452404            -0.486528   \n",
       "3                 -0.722370           2.452404            -0.486528   \n",
       "4                 -0.722370           2.452404            -0.486528   \n",
       "...                     ...                ...                  ...   \n",
       "199995            -0.516153          -1.153321             0.896971   \n",
       "199996            -0.516153          -1.153321             0.896971   \n",
       "199997            -0.516153          -1.153321             0.896971   \n",
       "199998            -0.516153          -1.153321             0.896971   \n",
       "199999            -0.516153          -1.153321             0.896971   \n",
       "\n",
       "        srch_room_count  srch_saturday_night_bool  \n",
       "0             -0.269187                  1.003035  \n",
       "1             -0.269187                  1.003035  \n",
       "2             -0.269187                  1.003035  \n",
       "3             -0.269187                  1.003035  \n",
       "4             -0.269187                  1.003035  \n",
       "...                 ...                       ...  \n",
       "199995        -0.269187                  1.003035  \n",
       "199996        -0.269187                  1.003035  \n",
       "199997        -0.269187                  1.003035  \n",
       "199998        -0.269187                  1.003035  \n",
       "199999        -0.269187                  1.003035  \n",
       "\n",
       "[200000 rows x 8 columns]"
      ]
     },
     "execution_count": 21,
     "metadata": {},
     "output_type": "execute_result"
    }
   ],
   "source": [
    "visitor = pd.DataFrame(visitor,columns = feature_vis)\n",
    "visitor"
   ]
  },
  {
   "cell_type": "markdown",
   "metadata": {},
   "source": [
    "Use distortions as the measurement to support the elbow method and determine the parameter k."
   ]
  },
  {
   "cell_type": "code",
   "execution_count": 22,
   "metadata": {},
   "outputs": [
    {
     "name": "stdout",
     "output_type": "stream",
     "text": [
      "1\n",
      "11\n",
      "21\n",
      "31\n",
      "41\n",
      "51\n",
      "61\n",
      "71\n"
     ]
    }
   ],
   "source": [
    "distortions = [] \n",
    "\n",
    "K = range(1,80,10) \n",
    "  \n",
    "for k in K: \n",
    "    #Building and fitting the model \n",
    "    vis_cluster = KMeans(n_clusters=k).fit(visitor)     \n",
    "    distortions.append(sum(np.min(cdist(visitor, vis_cluster.cluster_centers_, \n",
    "                      'euclidean'),axis=1)) / visitor.shape[0]) \n",
    "    print(k)"
   ]
  },
  {
   "cell_type": "code",
   "execution_count": 23,
   "metadata": {},
   "outputs": [
    {
     "data": {
      "image/png": "[encoded data removed]",
      "text/plain": [
       "<Figure size 432x288 with 1 Axes>"
      ]
     },
     "metadata": {
      "needs_background": "light"
     },
     "output_type": "display_data"
    }
   ],
   "source": [
    "plt.plot(K, distortions, 'bx-') \n",
    "plt.xlabel('Values of K') \n",
    "plt.ylabel('Distortion') \n",
    "plt.title('The Elbow Method using Distortion') \n",
    "plt.show()"
   ]
  },
  {
   "cell_type": "code",
   "execution_count": 24,
   "metadata": {},
   "outputs": [],
   "source": [
    "vis_cluster = KMeans(n_clusters=40,random_state = 0).fit(visitor)\n",
    "x['visitor_cluster'] = vis_cluster.labels_"
   ]
  },
  {
   "cell_type": "code",
   "execution_count": 25,
   "metadata": {},
   "outputs": [],
   "source": [
    "hotel = pd.DataFrame(hotel,columns = feature_hot)\n",
    "hotel.replace(np.nan,0,inplace=True)"
   ]
  },
  {
   "cell_type": "code",
   "execution_count": 26,
   "metadata": {},
   "outputs": [
    {
     "name": "stdout",
     "output_type": "stream",
     "text": [
      "1\n",
      "11\n",
      "21\n",
      "31\n",
      "41\n",
      "51\n",
      "61\n",
      "71\n"
     ]
    }
   ],
   "source": [
    "distortions2 = [] \n",
    "  \n",
    "for k in K: \n",
    "    #Building and fitting the model \n",
    "    hot_cluster = KMeans(n_clusters=k).fit(hotel)     \n",
    "    distortions2.append(sum(np.min(cdist(hotel, hot_cluster.cluster_centers_, \n",
    "                      'euclidean'),axis=1)) / hotel.shape[0]) \n",
    "    print(k)"
   ]
  },
  {
   "cell_type": "code",
   "execution_count": 27,
   "metadata": {},
   "outputs": [
    {
     "data": {
      "image/png": "[encoded data removed]",
      "text/plain": [
       "<Figure size 432x288 with 1 Axes>"
      ]
     },
     "metadata": {
      "needs_background": "light"
     },
     "output_type": "display_data"
    }
   ],
   "source": [
    "plt.plot(K, distortions2, 'bx-') \n",
    "plt.xlabel('Values of K') \n",
    "plt.ylabel('Distortion') \n",
    "plt.title('The Elbow Method using Distortion') \n",
    "plt.show()"
   ]
  },
  {
   "cell_type": "code",
   "execution_count": 28,
   "metadata": {},
   "outputs": [],
   "source": [
    "hot_cluster = KMeans(n_clusters=40,random_state = 0).fit(hotel)\n",
    "x['hotel_cluster'] = hot_cluster.labels_"
   ]
  },
  {
   "cell_type": "code",
   "execution_count": 29,
   "metadata": {},
   "outputs": [],
   "source": [
    "x.drop(columns = feature_vis,inplace = True)\n",
    "x.drop(columns = feature_hot,inplace = True)\n",
    "x['visitor_cluster'] = x['visitor_cluster'].astype(str)\n",
    "x['hotel_cluster'] = x['hotel_cluster'].astype(str)"
   ]
  },
  {
   "cell_type": "markdown",
   "metadata": {},
   "source": [
    "Now that users' and hotels' information is integrated in the `visitor_cluster` and `hotel_cluster` columns, remove the original columns that we derived the clusters from."
   ]
  },
  {
   "cell_type": "code",
   "execution_count": 30,
   "metadata": {},
   "outputs": [
    {
     "name": "stdout",
     "output_type": "stream",
     "text": [
      "<class 'pandas.core.frame.DataFrame'>\n",
      "RangeIndex: 200000 entries, 0 to 199999\n",
      "Data columns (total 6 columns):\n",
      " #   Column           Non-Null Count   Dtype  \n",
      "---  ------           --------------   -----  \n",
      " 0   position         200000 non-null  int64  \n",
      " 1   price_usd        200000 non-null  float64\n",
      " 2   promotion_flag   200000 non-null  int64  \n",
      " 3   random_bool      200000 non-null  int64  \n",
      " 4   visitor_cluster  200000 non-null  object \n",
      " 5   hotel_cluster    200000 non-null  object \n",
      "dtypes: float64(1), int64(3), object(2)\n",
      "memory usage: 9.2+ MB\n"
     ]
    }
   ],
   "source": [
    "x.info()"
   ]
  },
  {
   "cell_type": "markdown",
   "metadata": {},
   "source": [
    "### Resample the Imbalanced Dataset"
   ]
  },
  {
   "cell_type": "markdown",
   "metadata": {},
   "source": [
    "Under-sample click_bool = 0 by 1/10 and over-sample click_bool = 1 by 2 times."
   ]
  },
  {
   "cell_type": "code",
   "execution_count": 31,
   "metadata": {},
   "outputs": [],
   "source": [
    "x1 = x[y_c == 1]\n",
    "x0 = x[y_c == 0]\n",
    "n1 = len(x1)\n",
    "n0 = len(x0)\n",
    "x1 = x1.sample(2*n1,replace=True,random_state=0)\n",
    "x0 = x0.sample(int(n0/10), replace=True,random_state=0)\n",
    "x_c = pd.concat([x0, x1], axis=0)"
   ]
  },
  {
   "cell_type": "code",
   "execution_count": 32,
   "metadata": {},
   "outputs": [],
   "source": [
    "y_c = y_c.iloc[x_c.index]"
   ]
  },
  {
   "cell_type": "markdown",
   "metadata": {},
   "source": [
    "### Train/Validation Split"
   ]
  },
  {
   "cell_type": "code",
   "execution_count": 33,
   "metadata": {},
   "outputs": [],
   "source": [
    "train_xc,valid_xc,train_yc,valid_yc = train_test_split(x_c,y_c,test_size = 0.3,random_state = 1)"
   ]
  },
  {
   "cell_type": "markdown",
   "metadata": {},
   "source": [
    "## Classification Models Training"
   ]
  },
  {
   "cell_type": "markdown",
   "metadata": {},
   "source": [
    "Because the “clicking” is more important than “not clicking”, which means false negative should be penalized more than false negative, we should use a metrics other than misclassification error to select a good model. I chose __recall__, true positive / (true positive + false negative) as the most important metrics, and __0-recall__, true negative / (true negative + false positive) as the second important metrics. These 2 metrics have a trade-off."
   ]
  },
  {
   "cell_type": "markdown",
   "metadata": {},
   "source": [
    "### Part 1: Predict `click_bool`"
   ]
  },
  {
   "cell_type": "markdown",
   "metadata": {},
   "source": [
    "### Random Forest"
   ]
  },
  {
   "cell_type": "code",
   "execution_count": 34,
   "metadata": {},
   "outputs": [],
   "source": [
    "model_rf_c = rfc().fit(train_xc,train_yc)"
   ]
  },
  {
   "cell_type": "code",
   "execution_count": 35,
   "metadata": {},
   "outputs": [
    {
     "name": "stdout",
     "output_type": "stream",
     "text": [
      "              precision    recall  f1-score   support\n",
      "\n",
      "           0       0.88      0.80      0.84      5798\n",
      "           1       0.80      0.88      0.84      5306\n",
      "\n",
      "    accuracy                           0.84     11104\n",
      "   macro avg       0.84      0.84      0.84     11104\n",
      "weighted avg       0.84      0.84      0.84     11104\n",
      "\n"
     ]
    }
   ],
   "source": [
    "pred_yc1 = model_rf_c.predict(valid_xc)\n",
    "print(report(valid_yc,pred_yc1))"
   ]
  },
  {
   "cell_type": "markdown",
   "metadata": {},
   "source": [
    "### Gredient Boost"
   ]
  },
  {
   "cell_type": "code",
   "execution_count": 36,
   "metadata": {},
   "outputs": [],
   "source": [
    "model_gbc_c = gbc(learning_rate=0.01).fit(train_xc,train_yc)"
   ]
  },
  {
   "cell_type": "code",
   "execution_count": 37,
   "metadata": {},
   "outputs": [
    {
     "name": "stdout",
     "output_type": "stream",
     "text": [
      "              precision    recall  f1-score   support\n",
      "\n",
      "           0       0.67      0.78      0.72      5798\n",
      "           1       0.71      0.58      0.64      5306\n",
      "\n",
      "    accuracy                           0.69     11104\n",
      "   macro avg       0.69      0.68      0.68     11104\n",
      "weighted avg       0.69      0.69      0.68     11104\n",
      "\n"
     ]
    }
   ],
   "source": [
    "pred_yc2 = model_gbc_c.predict(valid_xc)\n",
    "print(report(valid_yc,pred_yc2))"
   ]
  },
  {
   "cell_type": "markdown",
   "metadata": {},
   "source": [
    "### Support Vector Machine"
   ]
  },
  {
   "cell_type": "code",
   "execution_count": 38,
   "metadata": {},
   "outputs": [],
   "source": [
    "model_svm_c = SVC().fit(train_xc,train_yc)"
   ]
  },
  {
   "cell_type": "code",
   "execution_count": 39,
   "metadata": {},
   "outputs": [
    {
     "name": "stdout",
     "output_type": "stream",
     "text": [
      "              precision    recall  f1-score   support\n",
      "\n",
      "           0       0.75      0.53      0.62      5798\n",
      "           1       0.61      0.81      0.70      5306\n",
      "\n",
      "    accuracy                           0.66     11104\n",
      "   macro avg       0.68      0.67      0.66     11104\n",
      "weighted avg       0.68      0.66      0.66     11104\n",
      "\n"
     ]
    }
   ],
   "source": [
    "pred_yc3 = model_svm_c.predict(valid_xc)\n",
    "print(report(valid_yc,pred_yc3))"
   ]
  },
  {
   "cell_type": "markdown",
   "metadata": {},
   "source": [
    "### Final model to predict click_bool: model_rf_c"
   ]
  },
  {
   "cell_type": "code",
   "execution_count": 40,
   "metadata": {},
   "outputs": [
    {
     "data": {
      "text/plain": [
       "<BarContainer object of 6 artists>"
      ]
     },
     "execution_count": 40,
     "metadata": {},
     "output_type": "execute_result"
    },
    {
     "data": {
      "image/png": "[encoded data removed]",
      "text/plain": [
       "<Figure size 576x288 with 1 Axes>"
      ]
     },
     "metadata": {
      "needs_background": "light"
     },
     "output_type": "display_data"
    }
   ],
   "source": [
    "plt.figure(figsize=(8,4))\n",
    "plt.bar(x.columns,model_rf_c.feature_importances_)"
   ]
  },
  {
   "cell_type": "markdown",
   "metadata": {},
   "source": [
    "### Part 2: Predict `booking_bool`"
   ]
  },
  {
   "cell_type": "code",
   "execution_count": 41,
   "metadata": {},
   "outputs": [],
   "source": [
    "y_c = expe.iloc[:,19]\n",
    "y_b = expe.iloc[:,20]\n",
    "\n",
    "#x_b1 = x[y_c == 1].drop(columns=['random_bool'])\n",
    "x_b = x[y_c == 1]\n",
    "y_b = y_b[y_c == 1]"
   ]
  },
  {
   "cell_type": "code",
   "execution_count": 42,
   "metadata": {},
   "outputs": [],
   "source": [
    "# Split the dataset into training and validation sets\n",
    "train_xb,valid_xb,train_yb,valid_yb = train_test_split(x_b,y_b,test_size = 0.3,random_state = 2)"
   ]
  },
  {
   "cell_type": "markdown",
   "metadata": {},
   "source": [
    "### Random Forest"
   ]
  },
  {
   "cell_type": "code",
   "execution_count": 43,
   "metadata": {},
   "outputs": [],
   "source": [
    "model_rf_b = rfc().fit(train_xb,train_yb)"
   ]
  },
  {
   "cell_type": "code",
   "execution_count": 44,
   "metadata": {},
   "outputs": [
    {
     "name": "stdout",
     "output_type": "stream",
     "text": [
      "              precision    recall  f1-score   support\n",
      "\n",
      "           0       0.88      0.76      0.81       997\n",
      "           1       0.87      0.94      0.90      1690\n",
      "\n",
      "    accuracy                           0.87      2687\n",
      "   macro avg       0.87      0.85      0.86      2687\n",
      "weighted avg       0.87      0.87      0.87      2687\n",
      "\n"
     ]
    }
   ],
   "source": [
    "pred_yb1 = model_rf_b.predict(valid_xb)\n",
    "print(report(valid_yb,pred_yb1))"
   ]
  },
  {
   "cell_type": "markdown",
   "metadata": {},
   "source": [
    "### Gredient Boost"
   ]
  },
  {
   "cell_type": "code",
   "execution_count": 45,
   "metadata": {},
   "outputs": [],
   "source": [
    "model_gbc_b = gbc(learning_rate=0.01).fit(train_xb,train_yb)"
   ]
  },
  {
   "cell_type": "code",
   "execution_count": 46,
   "metadata": {},
   "outputs": [
    {
     "name": "stdout",
     "output_type": "stream",
     "text": [
      "              precision    recall  f1-score   support\n",
      "\n",
      "           0       0.89      0.75      0.82       997\n",
      "           1       0.87      0.95      0.90      1690\n",
      "\n",
      "    accuracy                           0.87      2687\n",
      "   macro avg       0.88      0.85      0.86      2687\n",
      "weighted avg       0.88      0.87      0.87      2687\n",
      "\n"
     ]
    }
   ],
   "source": [
    "pred_yb2 = model_gbc_b.predict(valid_xb)\n",
    "print(report(valid_yb,pred_yb2))"
   ]
  },
  {
   "cell_type": "markdown",
   "metadata": {},
   "source": [
    "### Support Vector Machine"
   ]
  },
  {
   "cell_type": "code",
   "execution_count": 47,
   "metadata": {},
   "outputs": [],
   "source": [
    "model_svm_b = SVC(kernel='sigmoid').fit(train_xb,train_yb)"
   ]
  },
  {
   "cell_type": "code",
   "execution_count": 48,
   "metadata": {},
   "outputs": [
    {
     "name": "stdout",
     "output_type": "stream",
     "text": [
      "              precision    recall  f1-score   support\n",
      "\n",
      "           0       0.72      0.03      0.05       997\n",
      "           1       0.63      0.99      0.77      1690\n",
      "\n",
      "    accuracy                           0.64      2687\n",
      "   macro avg       0.68      0.51      0.41      2687\n",
      "weighted avg       0.67      0.64      0.51      2687\n",
      "\n"
     ]
    }
   ],
   "source": [
    "pred_yb3 = model_svm_b.predict(valid_xb)\n",
    "print(report(valid_yb,pred_yb3))"
   ]
  },
  {
   "cell_type": "markdown",
   "metadata": {},
   "source": [
    "### Final model to predict book_bool: model_gbc_b"
   ]
  },
  {
   "cell_type": "code",
   "execution_count": 49,
   "metadata": {},
   "outputs": [
    {
     "data": {
      "text/plain": [
       "<BarContainer object of 6 artists>"
      ]
     },
     "execution_count": 49,
     "metadata": {},
     "output_type": "execute_result"
    },
    {
     "data": {
      "image/png": "[encoded data removed]",
      "text/plain": [
       "<Figure size 576x288 with 1 Axes>"
      ]
     },
     "metadata": {
      "needs_background": "light"
     },
     "output_type": "display_data"
    }
   ],
   "source": [
    "plt.figure(figsize=(8,4))\n",
    "plt.bar(x_b.columns,model_gbc_b.feature_importances_)"
   ]
  },
  {
   "cell_type": "code",
   "execution_count": 50,
   "metadata": {},
   "outputs": [
    {
     "data": {
      "text/plain": [
       "<BarContainer object of 6 artists>"
      ]
     },
     "execution_count": 50,
     "metadata": {},
     "output_type": "execute_result"
    },
    {
     "data": {
      "image/png": "[encoded data removed]",
      "text/plain": [
       "<Figure size 576x288 with 1 Axes>"
      ]
     },
     "metadata": {
      "needs_background": "light"
     },
     "output_type": "display_data"
    }
   ],
   "source": [
    "plt.figure(figsize=(8,4))\n",
    "plt.bar(x_b.columns,model_rf_b.feature_importances_)"
   ]
  },
  {
   "cell_type": "markdown",
   "metadata": {},
   "source": [
    "### Predict `booking_bool` only with `random_bool`"
   ]
  },
  {
   "cell_type": "code",
   "execution_count": 64,
   "metadata": {},
   "outputs": [
    {
     "name": "stdout",
     "output_type": "stream",
     "text": [
      "              precision    recall  f1-score   support\n",
      "\n",
      "           0       0.89      0.75      0.82       997\n",
      "           1       0.87      0.95      0.90      1690\n",
      "\n",
      "    accuracy                           0.87      2687\n",
      "   macro avg       0.88      0.85      0.86      2687\n",
      "weighted avg       0.88      0.87      0.87      2687\n",
      "\n"
     ]
    }
   ],
   "source": [
    "random = np.where(valid_xb.random_bool == 1,0,1)\n",
    "print(report(valid_yb,random))"
   ]
  },
  {
   "cell_type": "markdown",
   "metadata": {},
   "source": [
    "## Conclusion"
   ]
  },
  {
   "cell_type": "markdown",
   "metadata": {},
   "source": [
    "When predicting the clicking behavior, the random forest outperforms the others, with a recall of 0.88, a 0-recall of 0.80, and an accuracy of 0.84. \n",
    "\n",
    "From the feature importances, the top 2 features that determine if the user clicks a property are `price_usd` and `position`. `visitor_cluster` and `hotel_cluster` also play important role, while `promotion flag` and `random_bool` don't exert much influence. __This indicates that hotels with lower price and hotels that appear on top of the list, no matter the list is random or not, are generally more likely to be clicked, depend on users' and hotels' characters. However, promotion is not the top concern for customers.__\n",
    "\n",
    "When predicting the booking behavior, the gredient boost outperforms the others, with a recall of 0.95, a 0-recall of 0.75, and an accuracy of 0.87. \n",
    "\n",
    "From the feature importances of random forest and gredient boost, a very interesting phenomenon is that __the `random_bool` really matters a lot__ to predict a booking behavior, while all the other features don't matter that much. Given the property is clicked, if we only use `random_bool` to predict `booking_bool`, random_bool = 1 -> booking_bool = 0 and vice versa, the recall and accuracy remain almost the same. This can be interpreted as: __The price of a hotel, position of a hotel on the list, users' features, hotels' other features mainly determine whether the user will click this property. But given that all those features are attractive enough for a user to click, if the list is randomized, then probably after the user opens the link, the user will find the property less satisfactory; if the list is not randomized, which means it is ranked based on the existing recommendation system, the clicked property will probably meets the user's need. This proves that a recommendation system is very useful for Expedia to promote sales.__"
   ]
  },
  {
   "cell_type": "markdown",
   "metadata": {},
   "source": [
    "## Future Steps for a Recommendation System"
   ]
  },
  {
   "cell_type": "markdown",
   "metadata": {},
   "source": [
    "### A scoring model that allows Expedia to rank order the list of properties for each customer based on the expected gross booking revenue:\n",
    "\n",
    "1. __Determine a customer cluster.__ When having a certain customer, first use his/her history to determine which customer segment he/she belongs to. If this is a new customer, use his/her some basic information (e.g. geographical) to narrow down the clusters s/he could belong to, and then choose the most populated cluster.\n",
    "2. __Estimate the probability whether a customer will click -> book a certain property.__ The expected revenue of this certain property from this customer can be estimated as price * probability. The scoring model takes this estimated revenue as the key factor to rank different properties for this customer."
   ]
  },
  {
   "cell_type": "code",
   "execution_count": 54,
   "metadata": {},
   "outputs": [],
   "source": [
    "x.to_csv('x.csv')"
   ]
  },
  {
   "cell_type": "code",
   "execution_count": null,
   "metadata": {},
   "outputs": [],
   "source": []
  }
 ],
 "metadata": {
  "kernelspec": {
   "display_name": "Python 3",
   "language": "python",
   "name": "python3"
  },
  "language_info": {
   "codemirror_mode": {
    "name": "ipython",
    "version": 3
   },
   "file_extension": ".py",
   "mimetype": "text/x-python",
   "name": "python",
   "nbconvert_exporter": "python",
   "pygments_lexer": "ipython3",
   "version": "3.7.3"
  }
 },
 "nbformat": 4,
 "nbformat_minor": 2
}
